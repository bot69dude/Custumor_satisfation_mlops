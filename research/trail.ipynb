{
 "cells": [
  {
   "cell_type": "code",
   "execution_count": 90,
   "metadata": {},
   "outputs": [],
   "source": [
    "import pandas as pd\n",
    "\n",
    "df = pd.read_csv(\"artifacts/data_ingestion/olist_customers_dataset.csv\")"
   ]
  },
  {
   "cell_type": "code",
   "execution_count": 91,
   "metadata": {},
   "outputs": [
    {
     "data": {
      "text/plain": [
       "Index(['order_id', 'customer_id', 'order_status', 'order_purchase_timestamp',\n",
       "       'order_approved_at', 'order_delivered_carrier_date',\n",
       "       'order_delivered_customer_date', 'order_estimated_delivery_date',\n",
       "       'payment_sequential', 'payment_type', 'payment_installments',\n",
       "       'payment_value', 'customer_unique_id', 'customer_zip_code_prefix',\n",
       "       'customer_city', 'customer_state', 'order_item_id', 'product_id',\n",
       "       'seller_id', 'shipping_limit_date', 'price', 'freight_value',\n",
       "       'product_category_name', 'product_name_lenght',\n",
       "       'product_description_lenght', 'product_photos_qty', 'product_weight_g',\n",
       "       'product_length_cm', 'product_height_cm', 'product_width_cm',\n",
       "       'product_category_name_english', 'review_score',\n",
       "       'review_comment_message'],\n",
       "      dtype='object')"
      ]
     },
     "execution_count": 91,
     "metadata": {},
     "output_type": "execute_result"
    }
   ],
   "source": [
    "df.columns"
   ]
  },
  {
   "cell_type": "code",
   "execution_count": 92,
   "metadata": {},
   "outputs": [
    {
     "name": "stdout",
     "output_type": "stream",
     "text": [
      "<class 'pandas.core.frame.DataFrame'>\n",
      "RangeIndex: 115609 entries, 0 to 115608\n",
      "Data columns (total 33 columns):\n",
      " #   Column                         Non-Null Count   Dtype  \n",
      "---  ------                         --------------   -----  \n",
      " 0   order_id                       115609 non-null  object \n",
      " 1   customer_id                    115609 non-null  object \n",
      " 2   order_status                   115609 non-null  object \n",
      " 3   order_purchase_timestamp       115609 non-null  object \n",
      " 4   order_approved_at              115595 non-null  object \n",
      " 5   order_delivered_carrier_date   114414 non-null  object \n",
      " 6   order_delivered_customer_date  113209 non-null  object \n",
      " 7   order_estimated_delivery_date  115609 non-null  object \n",
      " 8   payment_sequential             115609 non-null  int64  \n",
      " 9   payment_type                   115609 non-null  object \n",
      " 10  payment_installments           115609 non-null  int64  \n",
      " 11  payment_value                  115609 non-null  float64\n",
      " 12  customer_unique_id             115609 non-null  object \n",
      " 13  customer_zip_code_prefix       115609 non-null  int64  \n",
      " 14  customer_city                  115609 non-null  object \n",
      " 15  customer_state                 115609 non-null  object \n",
      " 16  order_item_id                  115609 non-null  int64  \n",
      " 17  product_id                     115609 non-null  object \n",
      " 18  seller_id                      115609 non-null  object \n",
      " 19  shipping_limit_date            115609 non-null  object \n",
      " 20  price                          115609 non-null  float64\n",
      " 21  freight_value                  115609 non-null  float64\n",
      " 22  product_category_name          115609 non-null  object \n",
      " 23  product_name_lenght            115609 non-null  float64\n",
      " 24  product_description_lenght     115609 non-null  float64\n",
      " 25  product_photos_qty             115609 non-null  float64\n",
      " 26  product_weight_g               115608 non-null  float64\n",
      " 27  product_length_cm              115608 non-null  float64\n",
      " 28  product_height_cm              115608 non-null  float64\n",
      " 29  product_width_cm               115608 non-null  float64\n",
      " 30  product_category_name_english  115609 non-null  object \n",
      " 31  review_score                   115609 non-null  int64  \n",
      " 32  review_comment_message         48906 non-null   object \n",
      "dtypes: float64(10), int64(5), object(18)\n",
      "memory usage: 29.1+ MB\n"
     ]
    }
   ],
   "source": [
    "df.info()"
   ]
  },
  {
   "cell_type": "code",
   "execution_count": 93,
   "metadata": {},
   "outputs": [
    {
     "name": "stdout",
     "output_type": "stream",
     "text": [
      "0        2017-10-02 10:56:33\n",
      "1        2017-10-02 10:56:33\n",
      "2        2017-10-02 10:56:33\n",
      "3        2017-08-15 18:29:31\n",
      "4        2017-08-02 18:24:47\n",
      "                 ...        \n",
      "115604   2018-08-03 21:35:53\n",
      "115605   2018-07-23 18:35:14\n",
      "115606   2018-07-23 18:35:14\n",
      "115607   2017-01-26 11:09:00\n",
      "115608   2017-09-17 16:51:43\n",
      "Name: order_purchase_timestamp, Length: 115609, dtype: datetime64[ns]\n"
     ]
    }
   ],
   "source": [
    "import pandas as pd\n",
    "\n",
    "# Assuming df is your DataFrame\n",
    "df['order_purchase_timestamp'] = pd.to_datetime(df['order_purchase_timestamp'])\n",
    "\n",
    "# Now, the 'order_purchase_timestamp' column will be converted to datetime dtype\n",
    "print(df['order_purchase_timestamp'])\n"
   ]
  },
  {
   "cell_type": "code",
   "execution_count": 94,
   "metadata": {},
   "outputs": [
    {
     "name": "stdout",
     "output_type": "stream",
     "text": [
      "       order_purchase_timestamp  Order_purchase_hour  Order_purchase_dayofweek\n",
      "0           2017-10-02 10:56:33                   10                         0\n",
      "1           2017-10-02 10:56:33                   10                         0\n",
      "2           2017-10-02 10:56:33                   10                         0\n",
      "3           2017-08-15 18:29:31                   18                         1\n",
      "4           2017-08-02 18:24:47                   18                         2\n",
      "...                         ...                  ...                       ...\n",
      "115604      2018-08-03 21:35:53                   21                         4\n",
      "115605      2018-07-23 18:35:14                   18                         0\n",
      "115606      2018-07-23 18:35:14                   18                         0\n",
      "115607      2017-01-26 11:09:00                   11                         3\n",
      "115608      2017-09-17 16:51:43                   16                         6\n",
      "\n",
      "[115609 rows x 3 columns]\n"
     ]
    }
   ],
   "source": [
    "import pandas as pd\n",
    "\n",
    "# Assuming df is your DataFrame\n",
    "df['order_purchase_timestamp'] = pd.to_datetime(df['order_purchase_timestamp'], unit='s')\n",
    "\n",
    "# Now that 'order_purchase_timestamp' is converted to datetime dtype, you can use the .dt accessor\n",
    "df['Order_purchase_hour'] = df['order_purchase_timestamp'].dt.hour\n",
    "df['Order_purchase_dayofweek'] = df['order_purchase_timestamp'].dt.dayofweek\n",
    "\n",
    "# Now, you should be able to access hour and day of the week attributes\n",
    "print(df[['order_purchase_timestamp', 'Order_purchase_hour', 'Order_purchase_dayofweek']])\n",
    "\n"
   ]
  },
  {
   "cell_type": "code",
   "execution_count": 95,
   "metadata": {},
   "outputs": [
    {
     "data": {
      "text/plain": [
       "0        2017-10-02 10:56:33\n",
       "1        2017-10-02 10:56:33\n",
       "2        2017-10-02 10:56:33\n",
       "3        2017-08-15 18:29:31\n",
       "4        2017-08-02 18:24:47\n",
       "                 ...        \n",
       "115604   2018-08-03 21:35:53\n",
       "115605   2018-07-23 18:35:14\n",
       "115606   2018-07-23 18:35:14\n",
       "115607   2017-01-26 11:09:00\n",
       "115608   2017-09-17 16:51:43\n",
       "Name: order_purchase_timestamp, Length: 115609, dtype: datetime64[ns]"
      ]
     },
     "execution_count": 95,
     "metadata": {},
     "output_type": "execute_result"
    }
   ],
   "source": [
    "df['order_purchase_timestamp']"
   ]
  },
  {
   "cell_type": "code",
   "execution_count": 96,
   "metadata": {},
   "outputs": [
    {
     "name": "stdout",
     "output_type": "stream",
     "text": [
      "       order_purchase_timestamp order_delivered_customer_date  \\\n",
      "0           2017-10-02 10:56:33           2017-10-10 21:25:13   \n",
      "1           2017-10-02 10:56:33           2017-10-10 21:25:13   \n",
      "2           2017-10-02 10:56:33           2017-10-10 21:25:13   \n",
      "3           2017-08-15 18:29:31           2017-08-18 14:44:43   \n",
      "4           2017-08-02 18:24:47           2017-08-07 18:30:01   \n",
      "...                         ...                           ...   \n",
      "115604      2018-08-03 21:35:53           2018-08-09 21:42:08   \n",
      "115605      2018-07-23 18:35:14           2018-07-27 14:04:10   \n",
      "115606      2018-07-23 18:35:14           2018-07-27 14:04:10   \n",
      "115607      2017-01-26 11:09:00           2017-02-14 16:24:01   \n",
      "115608      2017-09-17 16:51:43           2017-09-28 18:14:35   \n",
      "\n",
      "        Time_taken_for_delivery  \n",
      "0                           8.0  \n",
      "1                           8.0  \n",
      "2                           8.0  \n",
      "3                           2.0  \n",
      "4                           5.0  \n",
      "...                         ...  \n",
      "115604                      6.0  \n",
      "115605                      3.0  \n",
      "115606                      3.0  \n",
      "115607                     19.0  \n",
      "115608                     11.0  \n",
      "\n",
      "[115609 rows x 3 columns]\n"
     ]
    }
   ],
   "source": [
    "import pandas as pd\n",
    "\n",
    "# Assuming df is your DataFrame\n",
    "df['order_purchase_timestamp'] = pd.to_datetime(df['order_purchase_timestamp'])\n",
    "df['order_delivered_customer_date'] = pd.to_datetime(df['order_delivered_customer_date'])\n",
    "\n",
    "# Now that both columns are in datetime format, you can perform the subtraction\n",
    "df['Time_taken_for_delivery'] = (df['order_delivered_customer_date'] - df['order_purchase_timestamp']).dt.days\n",
    "\n",
    "# Now, you should be able to calculate the time taken for delivery\n",
    "print(df[['order_purchase_timestamp', 'order_delivered_customer_date', 'Time_taken_for_delivery']])\n"
   ]
  },
  {
   "cell_type": "code",
   "execution_count": 97,
   "metadata": {},
   "outputs": [
    {
     "name": "stdout",
     "output_type": "stream",
     "text": [
      "<class 'pandas.core.frame.DataFrame'>\n",
      "RangeIndex: 115609 entries, 0 to 115608\n",
      "Data columns (total 36 columns):\n",
      " #   Column                         Non-Null Count   Dtype         \n",
      "---  ------                         --------------   -----         \n",
      " 0   order_id                       115609 non-null  object        \n",
      " 1   customer_id                    115609 non-null  object        \n",
      " 2   order_status                   115609 non-null  object        \n",
      " 3   order_purchase_timestamp       115609 non-null  datetime64[ns]\n",
      " 4   order_approved_at              115595 non-null  object        \n",
      " 5   order_delivered_carrier_date   114414 non-null  object        \n",
      " 6   order_delivered_customer_date  113209 non-null  datetime64[ns]\n",
      " 7   order_estimated_delivery_date  115609 non-null  object        \n",
      " 8   payment_sequential             115609 non-null  int64         \n",
      " 9   payment_type                   115609 non-null  object        \n",
      " 10  payment_installments           115609 non-null  int64         \n",
      " 11  payment_value                  115609 non-null  float64       \n",
      " 12  customer_unique_id             115609 non-null  object        \n",
      " 13  customer_zip_code_prefix       115609 non-null  int64         \n",
      " 14  customer_city                  115609 non-null  object        \n",
      " 15  customer_state                 115609 non-null  object        \n",
      " 16  order_item_id                  115609 non-null  int64         \n",
      " 17  product_id                     115609 non-null  object        \n",
      " 18  seller_id                      115609 non-null  object        \n",
      " 19  shipping_limit_date            115609 non-null  object        \n",
      " 20  price                          115609 non-null  float64       \n",
      " 21  freight_value                  115609 non-null  float64       \n",
      " 22  product_category_name          115609 non-null  object        \n",
      " 23  product_name_lenght            115609 non-null  float64       \n",
      " 24  product_description_lenght     115609 non-null  float64       \n",
      " 25  product_photos_qty             115609 non-null  float64       \n",
      " 26  product_weight_g               115608 non-null  float64       \n",
      " 27  product_length_cm              115608 non-null  float64       \n",
      " 28  product_height_cm              115608 non-null  float64       \n",
      " 29  product_width_cm               115608 non-null  float64       \n",
      " 30  product_category_name_english  115609 non-null  object        \n",
      " 31  review_score                   115609 non-null  int64         \n",
      " 32  review_comment_message         48906 non-null   object        \n",
      " 33  Order_purchase_hour            115609 non-null  int32         \n",
      " 34  Order_purchase_dayofweek       115609 non-null  int32         \n",
      " 35  Time_taken_for_delivery        113209 non-null  float64       \n",
      "dtypes: datetime64[ns](2), float64(11), int32(2), int64(5), object(16)\n",
      "memory usage: 30.9+ MB\n"
     ]
    }
   ],
   "source": [
    "df.info(verbose=True)"
   ]
  },
  {
   "cell_type": "code",
   "execution_count": 98,
   "metadata": {},
   "outputs": [
    {
     "data": {
      "text/plain": [
       "Index(['order_id', 'customer_id', 'order_status', 'order_purchase_timestamp',\n",
       "       'order_approved_at', 'order_delivered_carrier_date',\n",
       "       'order_delivered_customer_date', 'order_estimated_delivery_date',\n",
       "       'payment_sequential', 'payment_type', 'payment_installments',\n",
       "       'payment_value', 'customer_unique_id', 'customer_zip_code_prefix',\n",
       "       'customer_city', 'customer_state', 'order_item_id', 'product_id',\n",
       "       'seller_id', 'shipping_limit_date', 'price', 'freight_value',\n",
       "       'product_category_name', 'product_name_lenght',\n",
       "       'product_description_lenght', 'product_photos_qty', 'product_weight_g',\n",
       "       'product_length_cm', 'product_height_cm', 'product_width_cm',\n",
       "       'product_category_name_english', 'review_score',\n",
       "       'review_comment_message', 'Order_purchase_hour',\n",
       "       'Order_purchase_dayofweek', 'Time_taken_for_delivery'],\n",
       "      dtype='object')"
      ]
     },
     "execution_count": 98,
     "metadata": {},
     "output_type": "execute_result"
    }
   ],
   "source": [
    "df.columns"
   ]
  },
  {
   "cell_type": "code",
   "execution_count": 99,
   "metadata": {},
   "outputs": [],
   "source": [
    "# List of IDs to be dropped\n",
    "ids_to_drop = [\n",
    "    'order_id', 'customer_id', 'payment_sequential',\n",
    "    'customer_unique_id', 'order_item_id', 'product_id',\n",
    "    'seller_id'\n",
    "]\n",
    "\n",
    "# Drop the IDs from the DataFrame\n",
    "df = df.drop(columns=ids_to_drop)\n"
   ]
  },
  {
   "cell_type": "code",
   "execution_count": 100,
   "metadata": {},
   "outputs": [
    {
     "data": {
      "text/plain": [
       "Index(['order_status', 'order_purchase_timestamp', 'order_approved_at',\n",
       "       'order_delivered_carrier_date', 'order_delivered_customer_date',\n",
       "       'order_estimated_delivery_date', 'payment_type', 'payment_installments',\n",
       "       'payment_value', 'customer_zip_code_prefix', 'customer_city',\n",
       "       'customer_state', 'shipping_limit_date', 'price', 'freight_value',\n",
       "       'product_category_name', 'product_name_lenght',\n",
       "       'product_description_lenght', 'product_photos_qty', 'product_weight_g',\n",
       "       'product_length_cm', 'product_height_cm', 'product_width_cm',\n",
       "       'product_category_name_english', 'review_score',\n",
       "       'review_comment_message', 'Order_purchase_hour',\n",
       "       'Order_purchase_dayofweek', 'Time_taken_for_delivery'],\n",
       "      dtype='object')"
      ]
     },
     "execution_count": 100,
     "metadata": {},
     "output_type": "execute_result"
    }
   ],
   "source": [
    "df.columns"
   ]
  },
  {
   "cell_type": "code",
   "execution_count": 101,
   "metadata": {},
   "outputs": [
    {
     "data": {
      "text/plain": [
       "array([  8.,   2.,   5.,  14.,  33.,  19.,   3.,  21.,   7.,   4.,  11.,\n",
       "        13.,  10.,   1.,  41.,   6.,  17.,   9.,  16.,  12.,  31.,  nan,\n",
       "        35.,  34.,  24.,  22.,  32.,  15.,  20.,  18.,  44.,  48.,  25.,\n",
       "        70.,  27.,  23.,  28.,  59.,  39.,  29.,  37.,  51.,  30.,  26.,\n",
       "        63.,  60.,  62.,  46.,  40., 101.,   0.,  43.,  57.,  54.,  53.,\n",
       "        45.,  38.,  80.,  36.,  42.,  52.,  56.,  47.,  69.,  58.,  55.,\n",
       "       175.,  50., 118., 181.,  78.,  83., 100.,  64.,  49., 145.,  74.,\n",
       "        73.,  65.,  81.,  67.,  61., 133.,  97., 108.,  68., 188.,  72.,\n",
       "       173.,  86.,  66.,  75., 110., 130.,  99.,  91.,  98., 105., 132.,\n",
       "        76.,  92., 142., 107., 187., 189.,  71., 186.,  79., 194.,  85.,\n",
       "       165., 126., 117.,  77., 182., 168., 104., 148., 136., 141.,  84.,\n",
       "       109., 166., 135.,  90.,  82.,  96., 167., 115., 131.,  89., 208.,\n",
       "        87., 143., 124., 106., 138., 172., 103.,  94.,  88., 174., 195.,\n",
       "       191.])"
      ]
     },
     "execution_count": 101,
     "metadata": {},
     "output_type": "execute_result"
    }
   ],
   "source": [
    "df[\"Time_taken_for_delivery\" ].unique()"
   ]
  },
  {
   "cell_type": "code",
   "execution_count": 102,
   "metadata": {},
   "outputs": [],
   "source": [
    "df['order_estimated_delivery_date'] = pd.to_datetime(df['order_estimated_delivery_date'])"
   ]
  },
  {
   "cell_type": "code",
   "execution_count": 103,
   "metadata": {},
   "outputs": [
    {
     "name": "stdout",
     "output_type": "stream",
     "text": [
      "       order_delivered_customer_date order_estimated_delivery_date  \\\n",
      "0                2017-10-10 21:25:13                    2017-10-18   \n",
      "1                2017-10-10 21:25:13                    2017-10-18   \n",
      "2                2017-10-10 21:25:13                    2017-10-18   \n",
      "3                2017-08-18 14:44:43                    2017-08-28   \n",
      "4                2017-08-07 18:30:01                    2017-08-15   \n",
      "...                              ...                           ...   \n",
      "115604           2018-08-09 21:42:08                    2018-08-10   \n",
      "115605           2018-07-27 14:04:10                    2018-08-06   \n",
      "115606           2018-07-27 14:04:10                    2018-08-06   \n",
      "115607           2017-02-14 16:24:01                    2017-03-07   \n",
      "115608           2017-09-28 18:14:35                    2017-10-11   \n",
      "\n",
      "        delivery_delay  \n",
      "0                 -8.0  \n",
      "1                 -8.0  \n",
      "2                 -8.0  \n",
      "3                -10.0  \n",
      "4                 -8.0  \n",
      "...                ...  \n",
      "115604            -1.0  \n",
      "115605           -10.0  \n",
      "115606           -10.0  \n",
      "115607           -21.0  \n",
      "115608           -13.0  \n",
      "\n",
      "[115609 rows x 3 columns]\n"
     ]
    }
   ],
   "source": [
    "# Calculate the time delay between delivery date and estimated delivery date\n",
    "df['delivery_delay'] = (df['order_delivered_customer_date'] - df['order_estimated_delivery_date']).dt.days\n",
    "\n",
    "# Now, 'delivery_delay' represents the delay between delivery date and estimated delivery date in days\n",
    "print(df[['order_delivered_customer_date', 'order_estimated_delivery_date', 'delivery_delay']])\n"
   ]
  },
  {
   "cell_type": "code",
   "execution_count": 104,
   "metadata": {},
   "outputs": [
    {
     "data": {
      "text/plain": [
       "array([  -8.,  -10.,   -6.,    7.,   -2.,  -18.,    1.,  -11.,   -9.,\n",
       "        -16.,  -24.,   -3.,  -20.,  -15.,  -13.,   15.,   -7.,  -21.,\n",
       "          0.,    5.,  -14.,   -4.,  -19.,    2.,   nan,   -1.,   -5.,\n",
       "        -12.,  -17.,    6.,   13.,   22.,  -23.,  -31.,  -22.,  -30.,\n",
       "        -26.,  -27.,  -25.,   44.,    4.,  -28.,   49.,   16.,    9.,\n",
       "         30.,    3.,  -46.,  -42.,  -32.,   32.,   20.,   35.,   41.,\n",
       "        -40.,  -35.,   33.,   29.,   10.,  -45.,   19.,    8.,   77.,\n",
       "        -36.,  -38.,  -44.,  -34.,  -29.,   28.,  -33.,   38.,  -37.,\n",
       "        -43.,   14.,   23.,  -39.,  -48.,   26.,   21.,   11.,   17.,\n",
       "         24.,  -50.,  -49.,  -59.,  -55.,   12.,   43.,  -47.,   18.,\n",
       "       -124.,  -57.,   27.,  -56.,  -41.,   31.,  161.,  105.,  152.,\n",
       "        -66.,   59.,  -53.,  -58.,   46.,   25.,  121.,  -52.,   36.,\n",
       "        -64.,   54.,   52.,   34.,   94.,   73.,   79.,   42.,   60.,\n",
       "         58.,  159.,   40.,   45.,   56.,  153.,   47.,   53.,   96.,\n",
       "         83.,   69.,   48.,   91.,  109.,   37.,  -69.,  -83.,  -51.,\n",
       "        -68.,  -75.,  -77.,   55.,  110.,  -60.,   80.,  -73.,  -78.,\n",
       "       -147.,  -62.,  -61., -135.,  144.,  -84.,  -76.,  167.,  -71.,\n",
       "         50.,  155.,   39.,  143.,   51.,  104.,   57.,  132.,   63.,\n",
       "        126.,  -54.,  -65.,  111.,   70.,   78.,   88.,  123.,   75.,\n",
       "         74.,  134.,   97.,   66.,   68.,   81.,  188.,   82.,  138.,\n",
       "         67.,  106.,  -67.,   65.,  -63.,   72.,  166., -140.,  137.,\n",
       "        165.,  175.,  162.,   85., -109.,   76.])"
      ]
     },
     "execution_count": 104,
     "metadata": {},
     "output_type": "execute_result"
    }
   ],
   "source": [
    "df['delivery_delay'].unique()"
   ]
  },
  {
   "cell_type": "code",
   "execution_count": 105,
   "metadata": {},
   "outputs": [
    {
     "data": {
      "text/plain": [
       "Index(['order_status', 'order_purchase_timestamp', 'order_approved_at',\n",
       "       'order_delivered_carrier_date', 'order_delivered_customer_date',\n",
       "       'order_estimated_delivery_date', 'payment_type', 'payment_installments',\n",
       "       'payment_value', 'customer_zip_code_prefix', 'customer_city',\n",
       "       'customer_state', 'shipping_limit_date', 'price', 'freight_value',\n",
       "       'product_category_name', 'product_name_lenght',\n",
       "       'product_description_lenght', 'product_photos_qty', 'product_weight_g',\n",
       "       'product_length_cm', 'product_height_cm', 'product_width_cm',\n",
       "       'product_category_name_english', 'review_score',\n",
       "       'review_comment_message', 'Order_purchase_hour',\n",
       "       'Order_purchase_dayofweek', 'Time_taken_for_delivery',\n",
       "       'delivery_delay'],\n",
       "      dtype='object')"
      ]
     },
     "execution_count": 105,
     "metadata": {},
     "output_type": "execute_result"
    }
   ],
   "source": [
    "df.columns"
   ]
  },
  {
   "cell_type": "code",
   "execution_count": 106,
   "metadata": {},
   "outputs": [],
   "source": [
    "\n",
    "# Features to drop\n",
    "features_to_drop = [\n",
    "    'order_purchase_timestamp',\n",
    "    'order_approved_at',\n",
    "    'order_delivered_carrier_date',\n",
    "    'order_delivered_customer_date',\n",
    "    'order_estimated_delivery_date',\n",
    "    'customer_zip_code_prefix',\n",
    "    'shipping_limit_date',\n",
    "    'product_weight_g',\n",
    "    'product_length_cm',\n",
    "    'product_height_cm',\n",
    "    'product_width_cm',\n",
    "    'product_category_name',\n",
    "    'product_name_lenght'\n",
    "]\n",
    "\n",
    "# Drop the specified features from the DataFrame\n",
    "df = df.drop(columns=features_to_drop)\n"
   ]
  },
  {
   "cell_type": "code",
   "execution_count": 107,
   "metadata": {},
   "outputs": [
    {
     "name": "stdout",
     "output_type": "stream",
     "text": [
      "<class 'pandas.core.frame.DataFrame'>\n",
      "RangeIndex: 115609 entries, 0 to 115608\n",
      "Data columns (total 17 columns):\n",
      " #   Column                         Non-Null Count   Dtype  \n",
      "---  ------                         --------------   -----  \n",
      " 0   order_status                   115609 non-null  object \n",
      " 1   payment_type                   115609 non-null  object \n",
      " 2   payment_installments           115609 non-null  int64  \n",
      " 3   payment_value                  115609 non-null  float64\n",
      " 4   customer_city                  115609 non-null  object \n",
      " 5   customer_state                 115609 non-null  object \n",
      " 6   price                          115609 non-null  float64\n",
      " 7   freight_value                  115609 non-null  float64\n",
      " 8   product_description_lenght     115609 non-null  float64\n",
      " 9   product_photos_qty             115609 non-null  float64\n",
      " 10  product_category_name_english  115609 non-null  object \n",
      " 11  review_score                   115609 non-null  int64  \n",
      " 12  review_comment_message         48906 non-null   object \n",
      " 13  Order_purchase_hour            115609 non-null  int32  \n",
      " 14  Order_purchase_dayofweek       115609 non-null  int32  \n",
      " 15  Time_taken_for_delivery        113209 non-null  float64\n",
      " 16  delivery_delay                 113209 non-null  float64\n",
      "dtypes: float64(7), int32(2), int64(2), object(6)\n",
      "memory usage: 14.1+ MB\n"
     ]
    }
   ],
   "source": [
    "df.info(verbose=True)"
   ]
  },
  {
   "cell_type": "code",
   "execution_count": 108,
   "metadata": {},
   "outputs": [
    {
     "data": {
      "text/plain": [
       "Index(['order_status', 'payment_type', 'payment_installments', 'payment_value',\n",
       "       'customer_city', 'customer_state', 'price', 'freight_value',\n",
       "       'product_description_lenght', 'product_photos_qty',\n",
       "       'product_category_name_english', 'review_score',\n",
       "       'review_comment_message', 'Order_purchase_hour',\n",
       "       'Order_purchase_dayofweek', 'Time_taken_for_delivery',\n",
       "       'delivery_delay'],\n",
       "      dtype='object')"
      ]
     },
     "execution_count": 108,
     "metadata": {},
     "output_type": "execute_result"
    }
   ],
   "source": [
    "df.columns"
   ]
  },
  {
   "cell_type": "code",
   "execution_count": 110,
   "metadata": {},
   "outputs": [
    {
     "data": {
      "text/plain": [
       "['delivered',\n",
       " 'shipped',\n",
       " 'invoiced',\n",
       " 'canceled',\n",
       " 'processing',\n",
       " 'approved',\n",
       " 'unavailable']"
      ]
     },
     "execution_count": 110,
     "metadata": {},
     "output_type": "execute_result"
    }
   ],
   "source": [
    "list(df['customer_city'].unique())"
   ]
  },
  {
   "cell_type": "code",
   "execution_count": 111,
   "metadata": {},
   "outputs": [
    {
     "data": {
      "text/plain": [
       "['credit_card', 'voucher', 'boleto', 'debit_card']"
      ]
     },
     "execution_count": 111,
     "metadata": {},
     "output_type": "execute_result"
    }
   ],
   "source": [
    "list(df['payment_type'].unique())"
   ]
  },
  {
   "cell_type": "code",
   "execution_count": 114,
   "metadata": {},
   "outputs": [
    {
     "data": {
      "text/plain": [
       "['housewares',\n",
       " 'cool_stuff',\n",
       " 'furniture_decor',\n",
       " 'industry_commerce_and_business',\n",
       " 'bed_bath_table',\n",
       " 'food_drink',\n",
       " 'computers_accessories',\n",
       " 'garden_tools',\n",
       " 'stationery',\n",
       " 'watches_gifts',\n",
       " 'health_beauty',\n",
       " 'kitchen_dining_laundry_garden_furniture',\n",
       " 'auto',\n",
       " 'perfumery',\n",
       " 'drinks',\n",
       " 'sports_leisure',\n",
       " 'market_place',\n",
       " 'baby',\n",
       " 'consoles_games',\n",
       " 'construction_tools_construction',\n",
       " 'home_construction',\n",
       " 'small_appliances',\n",
       " 'books_general_interest',\n",
       " 'electronics',\n",
       " 'dvds_blu_ray',\n",
       " 'home_confort',\n",
       " 'toys',\n",
       " 'pet_shop',\n",
       " 'music',\n",
       " 'telephony',\n",
       " 'christmas_supplies',\n",
       " 'luggage_accessories',\n",
       " 'home_comfort_2',\n",
       " 'fashion_bags_accessories',\n",
       " 'musical_instruments',\n",
       " 'food',\n",
       " 'costruction_tools_garden',\n",
       " 'art',\n",
       " 'furniture_living_room',\n",
       " 'construction_tools_lights',\n",
       " 'furniture_bedroom',\n",
       " 'office_furniture',\n",
       " 'computers',\n",
       " 'books_technical',\n",
       " 'flowers',\n",
       " 'arts_and_craftmanship',\n",
       " 'air_conditioning',\n",
       " 'tablets_printing_image',\n",
       " 'construction_tools_safety',\n",
       " 'home_appliances_2',\n",
       " 'party_supplies',\n",
       " 'fixed_telephony',\n",
       " 'cine_photo',\n",
       " 'fashion_shoes',\n",
       " 'la_cuisine',\n",
       " 'signaling_and_security',\n",
       " 'audio',\n",
       " 'fashion_underwear_beach',\n",
       " 'fashion_sport',\n",
       " 'fashion_childrens_clothes',\n",
       " 'home_appliances',\n",
       " 'agro_industry_and_commerce',\n",
       " 'cds_dvds_musicals',\n",
       " 'fashion_male_clothing',\n",
       " 'fashio_female_clothing',\n",
       " 'small_appliances_home_oven_and_coffee',\n",
       " 'costruction_tools_tools',\n",
       " 'furniture_mattress_and_upholstery',\n",
       " 'diapers_and_hygiene',\n",
       " 'books_imported',\n",
       " 'security_and_services']"
      ]
     },
     "execution_count": 114,
     "metadata": {},
     "output_type": "execute_result"
    }
   ],
   "source": [
    "list(df['product_category_name_english'].unique())"
   ]
  },
  {
   "cell_type": "code",
   "execution_count": 40,
   "metadata": {},
   "outputs": [],
   "source": [
    "from sklearn.preprocessing import LabelEncoder"
   ]
  },
  {
   "cell_type": "code",
   "execution_count": 42,
   "metadata": {},
   "outputs": [
    {
     "data": {
      "text/html": [
       "<div>\n",
       "<style scoped>\n",
       "    .dataframe tbody tr th:only-of-type {\n",
       "        vertical-align: middle;\n",
       "    }\n",
       "\n",
       "    .dataframe tbody tr th {\n",
       "        vertical-align: top;\n",
       "    }\n",
       "\n",
       "    .dataframe thead th {\n",
       "        text-align: right;\n",
       "    }\n",
       "</style>\n",
       "<table border=\"1\" class=\"dataframe\">\n",
       "  <thead>\n",
       "    <tr style=\"text-align: right;\">\n",
       "      <th></th>\n",
       "      <th>order_status</th>\n",
       "      <th>payment_type</th>\n",
       "      <th>payment_installments</th>\n",
       "      <th>payment_value</th>\n",
       "      <th>customer_city</th>\n",
       "      <th>customer_state</th>\n",
       "      <th>price</th>\n",
       "      <th>freight_value</th>\n",
       "      <th>product_description_lenght</th>\n",
       "      <th>product_photos_qty</th>\n",
       "      <th>product_category_name_english</th>\n",
       "      <th>review_score</th>\n",
       "      <th>review_comment_message</th>\n",
       "      <th>Order_purchase_hour</th>\n",
       "      <th>Order_purchase_dayofweek</th>\n",
       "      <th>Time_taken_for_delivery</th>\n",
       "      <th>delivery_delay</th>\n",
       "    </tr>\n",
       "  </thead>\n",
       "  <tbody>\n",
       "    <tr>\n",
       "      <th>0</th>\n",
       "      <td>2</td>\n",
       "      <td>1</td>\n",
       "      <td>1</td>\n",
       "      <td>18.12</td>\n",
       "      <td>3574</td>\n",
       "      <td>25</td>\n",
       "      <td>29.99</td>\n",
       "      <td>8.72</td>\n",
       "      <td>268.0</td>\n",
       "      <td>4.0</td>\n",
       "      <td>49</td>\n",
       "      <td>4</td>\n",
       "      <td>Não testei o produto ainda, mas ele veio corre...</td>\n",
       "      <td>10</td>\n",
       "      <td>0</td>\n",
       "      <td>8.0</td>\n",
       "      <td>-8.0</td>\n",
       "    </tr>\n",
       "    <tr>\n",
       "      <th>1</th>\n",
       "      <td>2</td>\n",
       "      <td>3</td>\n",
       "      <td>1</td>\n",
       "      <td>2.00</td>\n",
       "      <td>3574</td>\n",
       "      <td>25</td>\n",
       "      <td>29.99</td>\n",
       "      <td>8.72</td>\n",
       "      <td>268.0</td>\n",
       "      <td>4.0</td>\n",
       "      <td>49</td>\n",
       "      <td>4</td>\n",
       "      <td>Não testei o produto ainda, mas ele veio corre...</td>\n",
       "      <td>10</td>\n",
       "      <td>0</td>\n",
       "      <td>8.0</td>\n",
       "      <td>-8.0</td>\n",
       "    </tr>\n",
       "    <tr>\n",
       "      <th>2</th>\n",
       "      <td>2</td>\n",
       "      <td>3</td>\n",
       "      <td>1</td>\n",
       "      <td>18.59</td>\n",
       "      <td>3574</td>\n",
       "      <td>25</td>\n",
       "      <td>29.99</td>\n",
       "      <td>8.72</td>\n",
       "      <td>268.0</td>\n",
       "      <td>4.0</td>\n",
       "      <td>49</td>\n",
       "      <td>4</td>\n",
       "      <td>Não testei o produto ainda, mas ele veio corre...</td>\n",
       "      <td>10</td>\n",
       "      <td>0</td>\n",
       "      <td>8.0</td>\n",
       "      <td>-8.0</td>\n",
       "    </tr>\n",
       "    <tr>\n",
       "      <th>3</th>\n",
       "      <td>2</td>\n",
       "      <td>1</td>\n",
       "      <td>3</td>\n",
       "      <td>37.77</td>\n",
       "      <td>3574</td>\n",
       "      <td>25</td>\n",
       "      <td>29.99</td>\n",
       "      <td>7.78</td>\n",
       "      <td>268.0</td>\n",
       "      <td>4.0</td>\n",
       "      <td>49</td>\n",
       "      <td>4</td>\n",
       "      <td>Deveriam embalar melhor o produto. A caixa vei...</td>\n",
       "      <td>18</td>\n",
       "      <td>1</td>\n",
       "      <td>2.0</td>\n",
       "      <td>-10.0</td>\n",
       "    </tr>\n",
       "    <tr>\n",
       "      <th>4</th>\n",
       "      <td>2</td>\n",
       "      <td>1</td>\n",
       "      <td>1</td>\n",
       "      <td>37.77</td>\n",
       "      <td>3574</td>\n",
       "      <td>25</td>\n",
       "      <td>29.99</td>\n",
       "      <td>7.78</td>\n",
       "      <td>268.0</td>\n",
       "      <td>4.0</td>\n",
       "      <td>49</td>\n",
       "      <td>5</td>\n",
       "      <td>Só achei ela pequena pra seis xícaras ,mais é ...</td>\n",
       "      <td>18</td>\n",
       "      <td>2</td>\n",
       "      <td>5.0</td>\n",
       "      <td>-8.0</td>\n",
       "    </tr>\n",
       "    <tr>\n",
       "      <th>...</th>\n",
       "      <td>...</td>\n",
       "      <td>...</td>\n",
       "      <td>...</td>\n",
       "      <td>...</td>\n",
       "      <td>...</td>\n",
       "      <td>...</td>\n",
       "      <td>...</td>\n",
       "      <td>...</td>\n",
       "      <td>...</td>\n",
       "      <td>...</td>\n",
       "      <td>...</td>\n",
       "      <td>...</td>\n",
       "      <td>...</td>\n",
       "      <td>...</td>\n",
       "      <td>...</td>\n",
       "      <td>...</td>\n",
       "      <td>...</td>\n",
       "    </tr>\n",
       "    <tr>\n",
       "      <th>115604</th>\n",
       "      <td>2</td>\n",
       "      <td>0</td>\n",
       "      <td>1</td>\n",
       "      <td>33.69</td>\n",
       "      <td>451</td>\n",
       "      <td>10</td>\n",
       "      <td>25.00</td>\n",
       "      <td>8.69</td>\n",
       "      <td>576.0</td>\n",
       "      <td>5.0</td>\n",
       "      <td>3</td>\n",
       "      <td>5</td>\n",
       "      <td>NaN</td>\n",
       "      <td>21</td>\n",
       "      <td>4</td>\n",
       "      <td>6.0</td>\n",
       "      <td>-1.0</td>\n",
       "    </tr>\n",
       "    <tr>\n",
       "      <th>115605</th>\n",
       "      <td>2</td>\n",
       "      <td>1</td>\n",
       "      <td>1</td>\n",
       "      <td>84.63</td>\n",
       "      <td>1168</td>\n",
       "      <td>25</td>\n",
       "      <td>19.00</td>\n",
       "      <td>12.86</td>\n",
       "      <td>660.0</td>\n",
       "      <td>3.0</td>\n",
       "      <td>3</td>\n",
       "      <td>3</td>\n",
       "      <td>Um dos frisadores que comprei, especificamente...</td>\n",
       "      <td>18</td>\n",
       "      <td>0</td>\n",
       "      <td>3.0</td>\n",
       "      <td>-10.0</td>\n",
       "    </tr>\n",
       "    <tr>\n",
       "      <th>115606</th>\n",
       "      <td>2</td>\n",
       "      <td>1</td>\n",
       "      <td>1</td>\n",
       "      <td>84.63</td>\n",
       "      <td>1168</td>\n",
       "      <td>25</td>\n",
       "      <td>39.90</td>\n",
       "      <td>12.87</td>\n",
       "      <td>942.0</td>\n",
       "      <td>5.0</td>\n",
       "      <td>3</td>\n",
       "      <td>3</td>\n",
       "      <td>Um dos frisadores que comprei, especificamente...</td>\n",
       "      <td>18</td>\n",
       "      <td>0</td>\n",
       "      <td>3.0</td>\n",
       "      <td>-10.0</td>\n",
       "    </tr>\n",
       "    <tr>\n",
       "      <th>115607</th>\n",
       "      <td>2</td>\n",
       "      <td>1</td>\n",
       "      <td>1</td>\n",
       "      <td>209.06</td>\n",
       "      <td>3179</td>\n",
       "      <td>20</td>\n",
       "      <td>183.29</td>\n",
       "      <td>25.77</td>\n",
       "      <td>506.0</td>\n",
       "      <td>1.0</td>\n",
       "      <td>61</td>\n",
       "      <td>4</td>\n",
       "      <td>Envio muito rápido. Recomendo.</td>\n",
       "      <td>11</td>\n",
       "      <td>3</td>\n",
       "      <td>19.0</td>\n",
       "      <td>-21.0</td>\n",
       "    </tr>\n",
       "    <tr>\n",
       "      <th>115608</th>\n",
       "      <td>2</td>\n",
       "      <td>0</td>\n",
       "      <td>1</td>\n",
       "      <td>115.45</td>\n",
       "      <td>556</td>\n",
       "      <td>6</td>\n",
       "      <td>100.00</td>\n",
       "      <td>15.45</td>\n",
       "      <td>461.0</td>\n",
       "      <td>4.0</td>\n",
       "      <td>61</td>\n",
       "      <td>1</td>\n",
       "      <td>boa tarde produto enviado errado, terei que me...</td>\n",
       "      <td>16</td>\n",
       "      <td>6</td>\n",
       "      <td>11.0</td>\n",
       "      <td>-13.0</td>\n",
       "    </tr>\n",
       "  </tbody>\n",
       "</table>\n",
       "<p>115609 rows × 17 columns</p>\n",
       "</div>"
      ],
      "text/plain": [
       "        order_status  payment_type  payment_installments  payment_value  \\\n",
       "0                  2             1                     1          18.12   \n",
       "1                  2             3                     1           2.00   \n",
       "2                  2             3                     1          18.59   \n",
       "3                  2             1                     3          37.77   \n",
       "4                  2             1                     1          37.77   \n",
       "...              ...           ...                   ...            ...   \n",
       "115604             2             0                     1          33.69   \n",
       "115605             2             1                     1          84.63   \n",
       "115606             2             1                     1          84.63   \n",
       "115607             2             1                     1         209.06   \n",
       "115608             2             0                     1         115.45   \n",
       "\n",
       "        customer_city  customer_state   price  freight_value  \\\n",
       "0                3574              25   29.99           8.72   \n",
       "1                3574              25   29.99           8.72   \n",
       "2                3574              25   29.99           8.72   \n",
       "3                3574              25   29.99           7.78   \n",
       "4                3574              25   29.99           7.78   \n",
       "...               ...             ...     ...            ...   \n",
       "115604            451              10   25.00           8.69   \n",
       "115605           1168              25   19.00          12.86   \n",
       "115606           1168              25   39.90          12.87   \n",
       "115607           3179              20  183.29          25.77   \n",
       "115608            556               6  100.00          15.45   \n",
       "\n",
       "        product_description_lenght  product_photos_qty  \\\n",
       "0                            268.0                 4.0   \n",
       "1                            268.0                 4.0   \n",
       "2                            268.0                 4.0   \n",
       "3                            268.0                 4.0   \n",
       "4                            268.0                 4.0   \n",
       "...                            ...                 ...   \n",
       "115604                       576.0                 5.0   \n",
       "115605                       660.0                 3.0   \n",
       "115606                       942.0                 5.0   \n",
       "115607                       506.0                 1.0   \n",
       "115608                       461.0                 4.0   \n",
       "\n",
       "        product_category_name_english  review_score  \\\n",
       "0                                  49             4   \n",
       "1                                  49             4   \n",
       "2                                  49             4   \n",
       "3                                  49             4   \n",
       "4                                  49             5   \n",
       "...                               ...           ...   \n",
       "115604                              3             5   \n",
       "115605                              3             3   \n",
       "115606                              3             3   \n",
       "115607                             61             4   \n",
       "115608                             61             1   \n",
       "\n",
       "                                   review_comment_message  \\\n",
       "0       Não testei o produto ainda, mas ele veio corre...   \n",
       "1       Não testei o produto ainda, mas ele veio corre...   \n",
       "2       Não testei o produto ainda, mas ele veio corre...   \n",
       "3       Deveriam embalar melhor o produto. A caixa vei...   \n",
       "4       Só achei ela pequena pra seis xícaras ,mais é ...   \n",
       "...                                                   ...   \n",
       "115604                                                NaN   \n",
       "115605  Um dos frisadores que comprei, especificamente...   \n",
       "115606  Um dos frisadores que comprei, especificamente...   \n",
       "115607                     Envio muito rápido. Recomendo.   \n",
       "115608  boa tarde produto enviado errado, terei que me...   \n",
       "\n",
       "        Order_purchase_hour  Order_purchase_dayofweek  \\\n",
       "0                        10                         0   \n",
       "1                        10                         0   \n",
       "2                        10                         0   \n",
       "3                        18                         1   \n",
       "4                        18                         2   \n",
       "...                     ...                       ...   \n",
       "115604                   21                         4   \n",
       "115605                   18                         0   \n",
       "115606                   18                         0   \n",
       "115607                   11                         3   \n",
       "115608                   16                         6   \n",
       "\n",
       "        Time_taken_for_delivery  delivery_delay  \n",
       "0                           8.0            -8.0  \n",
       "1                           8.0            -8.0  \n",
       "2                           8.0            -8.0  \n",
       "3                           2.0           -10.0  \n",
       "4                           5.0            -8.0  \n",
       "...                         ...             ...  \n",
       "115604                      6.0            -1.0  \n",
       "115605                      3.0           -10.0  \n",
       "115606                      3.0           -10.0  \n",
       "115607                     19.0           -21.0  \n",
       "115608                     11.0           -13.0  \n",
       "\n",
       "[115609 rows x 17 columns]"
      ]
     },
     "execution_count": 42,
     "metadata": {},
     "output_type": "execute_result"
    }
   ],
   "source": [
    "# List of categorical features to encode\n",
    "categorical_features = [\n",
    "    'order_status',\n",
    "    'product_category_name_english',\n",
    "    'customer_city',\n",
    "    'customer_state',\n",
    "    'payment_type'\n",
    "]\n",
    "\n",
    "label_encoder = LabelEncoder()\n",
    "for col in categorical_features:\n",
    "    df[col] = label_encoder.fit_transform(df[col])\n",
    "    \n",
    "df\n"
   ]
  },
  {
   "cell_type": "code",
   "execution_count": 43,
   "metadata": {},
   "outputs": [],
   "source": [
    "from sklearn.preprocessing import MinMaxScaler\n",
    "\n",
    "# Initialize the MinMaxScaler\n",
    "scaler = MinMaxScaler()\n",
    "\n",
    "# Reshape the 'review_score' column to a 2D array\n",
    "review_score = df['delivery_delay'].values.reshape(-1, 1)\n",
    "\n",
    "# Fit and transform the data\n",
    "scaled_review_score = scaler.fit_transform(review_score)\n",
    "\n",
    "# Replace the original 'review_score' column with the scaled values\n",
    "df['delivery_delay'] = scaled_review_score\n"
   ]
  },
  {
   "cell_type": "code",
   "execution_count": 44,
   "metadata": {},
   "outputs": [
    {
     "name": "stdout",
     "output_type": "stream",
     "text": [
      "17\n"
     ]
    }
   ],
   "source": [
    "print(len(df.columns))"
   ]
  },
  {
   "cell_type": "code",
   "execution_count": 45,
   "metadata": {},
   "outputs": [
    {
     "name": "stdout",
     "output_type": "stream",
     "text": [
      "Shape of X_train: (92487, 15)\n",
      "Shape of X_test: (23122, 15)\n",
      "Shape of y_train: (92487,)\n",
      "Shape of y_test: (23122,)\n"
     ]
    }
   ],
   "source": [
    "from sklearn.model_selection import train_test_split\n",
    "\n",
    "# Define the features (X) and target variable (y)\n",
    "X = df.drop(columns=['review_score', 'review_comment_message'])  # Features\n",
    "y = df['review_score']  # Target variable\n",
    "\n",
    "# Split the data into training and testing sets\n",
    "X_train, X_test, y_train, y_test = train_test_split(X, y, test_size=0.2, random_state=42)\n",
    "\n",
    "# Print the shapes of the training and testing sets\n",
    "print(\"Shape of X_train:\", X_train.shape)\n",
    "print(\"Shape of X_test:\", X_test.shape)\n",
    "print(\"Shape of y_train:\", y_train.shape)\n",
    "print(\"Shape of y_test:\", y_test.shape)\n"
   ]
  },
  {
   "cell_type": "code",
   "execution_count": 46,
   "metadata": {},
   "outputs": [
    {
     "name": "stdout",
     "output_type": "stream",
     "text": [
      "590       5\n",
      "35804     4\n",
      "14286     5\n",
      "93508     5\n",
      "14957     5\n",
      "         ..\n",
      "76820     4\n",
      "110268    2\n",
      "103694    5\n",
      "860       4\n",
      "15795     5\n",
      "Name: review_score, Length: 92487, dtype: int64\n"
     ]
    }
   ],
   "source": [
    "print(y_train)"
   ]
  },
  {
   "cell_type": "code",
   "execution_count": 47,
   "metadata": {},
   "outputs": [
    {
     "name": "stdout",
     "output_type": "stream",
     "text": [
      "Mean Squared Error: 1.3930844702640812\n"
     ]
    }
   ],
   "source": [
    "from xgboost import XGBRegressor\n",
    "from sklearn.metrics import mean_squared_error\n",
    "\n",
    "# Define hyperparameters\n",
    "params = {\n",
    "    'n_estimators': 100,\n",
    "    'learning_rate': 0.1,\n",
    "    'max_depth': 5,\n",
    "    'min_child_weight': 1,\n",
    "    'gamma': 0,\n",
    "    'subsample': 0.8,\n",
    "    'colsample_bytree': 0.8,\n",
    "    'reg_alpha': 0,\n",
    "    'reg_lambda': 1\n",
    "}\n",
    "\n",
    "# Initialize the XGBoost regressor with specified hyperparameters\n",
    "model = XGBRegressor(**params)\n",
    "\n",
    "# Fit the model on the training data\n",
    "model.fit(X_train, y_train)\n",
    "\n",
    "# Predict on the testing data\n",
    "y_pred = model.predict(X_test)\n",
    "\n",
    "# Evaluate the model\n",
    "mse = mean_squared_error(y_test, y_pred)\n",
    "print(\"Mean Squared Error:\", mse)\n",
    "\n",
    "\n"
   ]
  },
  {
   "cell_type": "code",
   "execution_count": 48,
   "metadata": {},
   "outputs": [
    {
     "name": "stdout",
     "output_type": "stream",
     "text": [
      "[4.216387  4.587246  4.440641  ... 4.4621387 4.409049  2.1901345]\n"
     ]
    }
   ],
   "source": [
    "print(y_pred)"
   ]
  },
  {
   "cell_type": "code",
   "execution_count": 49,
   "metadata": {},
   "outputs": [
    {
     "name": "stdout",
     "output_type": "stream",
     "text": [
      "80929     5\n",
      "98263     1\n",
      "12492     5\n",
      "31032     5\n",
      "96097     5\n",
      "         ..\n",
      "68911     5\n",
      "16514     3\n",
      "32644     5\n",
      "112234    4\n",
      "94641     1\n",
      "Name: review_score, Length: 23122, dtype: int64\n"
     ]
    }
   ],
   "source": [
    "print(y_test)"
   ]
  },
  {
   "cell_type": "code",
   "execution_count": 50,
   "metadata": {},
   "outputs": [
    {
     "name": "stdout",
     "output_type": "stream",
     "text": [
      "Mean Squared Error: 1.3930844702640812\n",
      "Mean Absolute Error: 0.9197359869491681\n",
      "R-squared: 0.26591745183294724\n",
      "Explained Variance Score: 0.2659210714334367\n"
     ]
    }
   ],
   "source": [
    "from sklearn.metrics import mean_squared_error, mean_absolute_error, r2_score, explained_variance_score\n",
    "\n",
    "# Calculate mean squared error\n",
    "mse = mean_squared_error(y_test, y_pred)\n",
    "print(\"Mean Squared Error:\", mse)\n",
    "\n",
    "# Calculate mean absolute error\n",
    "mae = mean_absolute_error(y_test, y_pred)\n",
    "print(\"Mean Absolute Error:\", mae)\n",
    "\n",
    "# Calculate R-squared\n",
    "r2 = r2_score(y_test, y_pred)\n",
    "print(\"R-squared:\", r2)\n",
    "\n",
    "# Calculate explained variance score\n",
    "explained_variance = explained_variance_score(y_test, y_pred)\n",
    "print(\"Explained Variance Score:\", explained_variance)\n"
   ]
  },
  {
   "cell_type": "code",
   "execution_count": 51,
   "metadata": {},
   "outputs": [
    {
     "data": {
      "text/plain": [
       "['xgboost_regression_model.pkl']"
      ]
     },
     "execution_count": 51,
     "metadata": {},
     "output_type": "execute_result"
    }
   ],
   "source": [
    "import joblib\n",
    "\n",
    "# Save the trained model to a file\n",
    "joblib.dump(model, 'xgboost_regression_model.pkl')\n"
   ]
  },
  {
   "cell_type": "code",
   "execution_count": 57,
   "metadata": {},
   "outputs": [
    {
     "data": {
      "text/plain": [
       "array(['order_status', 'payment_type', 'payment_installments',\n",
       "       'payment_value', 'customer_city', 'customer_state', 'price',\n",
       "       'freight_value', 'product_description_lenght',\n",
       "       'product_photos_qty', 'product_category_name_english',\n",
       "       'Order_purchase_hour', 'Order_purchase_dayofweek',\n",
       "       'Time_taken_for_delivery', 'delivery_delay'], dtype='<U29')"
      ]
     },
     "execution_count": 57,
     "metadata": {},
     "output_type": "execute_result"
    }
   ],
   "source": [
    "model.feature_names_in_"
   ]
  },
  {
   "cell_type": "code",
   "execution_count": 58,
   "metadata": {},
   "outputs": [],
   "source": [
    "input_data = ['delivered','credit_card',3,18.59,'florianopolis','MG',339.0,7.78,664.0,6,'cool_stuff',6,4,5,-2]"
   ]
  },
  {
   "cell_type": "code",
   "execution_count": 59,
   "metadata": {},
   "outputs": [],
   "source": [
    "feature_names = ['order_status', 'payment_type', 'payment_installments',\n",
    "       'payment_value', 'customer_city', 'customer_state', 'price',\n",
    "       'freight_value', 'product_description_lenght',\n",
    "       'product_photos_qty', 'product_category_name_english',\n",
    "       'Order_purchase_hour', 'Order_purchase_dayofweek',\n",
    "       'Time_taken_for_delivery', 'delivery_delay']\n",
    "            \n",
    "input_data_df = pd.DataFrame([input_data], columns=feature_names)"
   ]
  },
  {
   "cell_type": "code",
   "execution_count": 60,
   "metadata": {},
   "outputs": [
    {
     "data": {
      "text/html": [
       "<div>\n",
       "<style scoped>\n",
       "    .dataframe tbody tr th:only-of-type {\n",
       "        vertical-align: middle;\n",
       "    }\n",
       "\n",
       "    .dataframe tbody tr th {\n",
       "        vertical-align: top;\n",
       "    }\n",
       "\n",
       "    .dataframe thead th {\n",
       "        text-align: right;\n",
       "    }\n",
       "</style>\n",
       "<table border=\"1\" class=\"dataframe\">\n",
       "  <thead>\n",
       "    <tr style=\"text-align: right;\">\n",
       "      <th></th>\n",
       "      <th>order_status</th>\n",
       "      <th>payment_type</th>\n",
       "      <th>payment_installments</th>\n",
       "      <th>payment_value</th>\n",
       "      <th>customer_city</th>\n",
       "      <th>customer_state</th>\n",
       "      <th>price</th>\n",
       "      <th>freight_value</th>\n",
       "      <th>product_description_lenght</th>\n",
       "      <th>product_photos_qty</th>\n",
       "      <th>product_category_name_english</th>\n",
       "      <th>Order_purchase_hour</th>\n",
       "      <th>Order_purchase_dayofweek</th>\n",
       "      <th>Time_taken_for_delivery</th>\n",
       "      <th>delivery_delay</th>\n",
       "    </tr>\n",
       "  </thead>\n",
       "  <tbody>\n",
       "    <tr>\n",
       "      <th>0</th>\n",
       "      <td>delivered</td>\n",
       "      <td>credit_card</td>\n",
       "      <td>3</td>\n",
       "      <td>18.59</td>\n",
       "      <td>florianopolis</td>\n",
       "      <td>MG</td>\n",
       "      <td>339.0</td>\n",
       "      <td>7.78</td>\n",
       "      <td>664.0</td>\n",
       "      <td>6</td>\n",
       "      <td>cool_stuff</td>\n",
       "      <td>6</td>\n",
       "      <td>4</td>\n",
       "      <td>5</td>\n",
       "      <td>-2</td>\n",
       "    </tr>\n",
       "  </tbody>\n",
       "</table>\n",
       "</div>"
      ],
      "text/plain": [
       "  order_status payment_type  payment_installments  payment_value  \\\n",
       "0    delivered  credit_card                     3          18.59   \n",
       "\n",
       "   customer_city customer_state  price  freight_value  \\\n",
       "0  florianopolis             MG  339.0           7.78   \n",
       "\n",
       "   product_description_lenght  product_photos_qty  \\\n",
       "0                       664.0                   6   \n",
       "\n",
       "  product_category_name_english  Order_purchase_hour  \\\n",
       "0                    cool_stuff                    6   \n",
       "\n",
       "   Order_purchase_dayofweek  Time_taken_for_delivery  delivery_delay  \n",
       "0                         4                        5              -2  "
      ]
     },
     "execution_count": 60,
     "metadata": {},
     "output_type": "execute_result"
    }
   ],
   "source": [
    "input_data_df"
   ]
  },
  {
   "cell_type": "code",
   "execution_count": 61,
   "metadata": {},
   "outputs": [],
   "source": [
    "categorical_features = [\n",
    "    'order_status',\n",
    "    'product_category_name_english',\n",
    "    'customer_city',\n",
    "    'customer_state',\n",
    "    'payment_type'\n",
    "]\n",
    "\n",
    "label_encoder = LabelEncoder()\n",
    "for col in categorical_features:\n",
    "    input_data_df[col] = label_encoder.fit_transform(input_data_df[col])"
   ]
  },
  {
   "cell_type": "code",
   "execution_count": 62,
   "metadata": {},
   "outputs": [
    {
     "data": {
      "text/html": [
       "<div>\n",
       "<style scoped>\n",
       "    .dataframe tbody tr th:only-of-type {\n",
       "        vertical-align: middle;\n",
       "    }\n",
       "\n",
       "    .dataframe tbody tr th {\n",
       "        vertical-align: top;\n",
       "    }\n",
       "\n",
       "    .dataframe thead th {\n",
       "        text-align: right;\n",
       "    }\n",
       "</style>\n",
       "<table border=\"1\" class=\"dataframe\">\n",
       "  <thead>\n",
       "    <tr style=\"text-align: right;\">\n",
       "      <th></th>\n",
       "      <th>order_status</th>\n",
       "      <th>payment_type</th>\n",
       "      <th>payment_installments</th>\n",
       "      <th>payment_value</th>\n",
       "      <th>customer_city</th>\n",
       "      <th>customer_state</th>\n",
       "      <th>price</th>\n",
       "      <th>freight_value</th>\n",
       "      <th>product_description_lenght</th>\n",
       "      <th>product_photos_qty</th>\n",
       "      <th>product_category_name_english</th>\n",
       "      <th>Order_purchase_hour</th>\n",
       "      <th>Order_purchase_dayofweek</th>\n",
       "      <th>Time_taken_for_delivery</th>\n",
       "      <th>delivery_delay</th>\n",
       "    </tr>\n",
       "  </thead>\n",
       "  <tbody>\n",
       "    <tr>\n",
       "      <th>0</th>\n",
       "      <td>0</td>\n",
       "      <td>0</td>\n",
       "      <td>3</td>\n",
       "      <td>18.59</td>\n",
       "      <td>0</td>\n",
       "      <td>0</td>\n",
       "      <td>339.0</td>\n",
       "      <td>7.78</td>\n",
       "      <td>664.0</td>\n",
       "      <td>6</td>\n",
       "      <td>0</td>\n",
       "      <td>6</td>\n",
       "      <td>4</td>\n",
       "      <td>5</td>\n",
       "      <td>-2</td>\n",
       "    </tr>\n",
       "  </tbody>\n",
       "</table>\n",
       "</div>"
      ],
      "text/plain": [
       "   order_status  payment_type  payment_installments  payment_value  \\\n",
       "0             0             0                     3          18.59   \n",
       "\n",
       "   customer_city  customer_state  price  freight_value  \\\n",
       "0              0               0  339.0           7.78   \n",
       "\n",
       "   product_description_lenght  product_photos_qty  \\\n",
       "0                       664.0                   6   \n",
       "\n",
       "   product_category_name_english  Order_purchase_hour  \\\n",
       "0                              0                    6   \n",
       "\n",
       "   Order_purchase_dayofweek  Time_taken_for_delivery  delivery_delay  \n",
       "0                         4                        5              -2  "
      ]
     },
     "execution_count": 62,
     "metadata": {},
     "output_type": "execute_result"
    }
   ],
   "source": [
    "input_data_df"
   ]
  },
  {
   "cell_type": "code",
   "execution_count": 63,
   "metadata": {},
   "outputs": [
    {
     "data": {
      "text/plain": [
       "array([3.3161678], dtype=float32)"
      ]
     },
     "execution_count": 63,
     "metadata": {},
     "output_type": "execute_result"
    }
   ],
   "source": [
    "model.predict(input_data_df)"
   ]
  },
  {
   "cell_type": "code",
   "execution_count": 64,
   "metadata": {},
   "outputs": [],
   "source": [
    "from joblib import load\n",
    "modelx = load(\"artifacts/model_trainer/model.joblib\")"
   ]
  },
  {
   "cell_type": "code",
   "execution_count": 82,
   "metadata": {},
   "outputs": [],
   "source": [
    "model_features = list(modelx.feature_names_in_)"
   ]
  },
  {
   "cell_type": "code",
   "execution_count": 72,
   "metadata": {},
   "outputs": [],
   "source": [
    "feature = ['order_status', 'payment_type', 'payment_installments',\n",
    "       'payment_value', 'customer_city', 'customer_state', 'price',\n",
    "       'freight_value', 'product_description_lenght',\n",
    "       'product_photos_qty', 'product_category_name_english',\n",
    "       'Order_purchase_hour', 'Order_purchase_dayofweek',\n",
    "       'Time_taken_for_delivery', 'delivery_delay']"
   ]
  },
  {
   "cell_type": "code",
   "execution_count": 71,
   "metadata": {},
   "outputs": [],
   "source": [
    "input_data = ['delivered','credit_card',3,18.59,'florianopolis','MG',339.0,7.78,664.0,6,'cool_stuff',6,4,5,-2]"
   ]
  },
  {
   "cell_type": "code",
   "execution_count": 73,
   "metadata": {},
   "outputs": [],
   "source": [
    "input_data = pd.DataFrame([input_data],columns=feature)"
   ]
  },
  {
   "cell_type": "code",
   "execution_count": 75,
   "metadata": {},
   "outputs": [],
   "source": [
    "input_data = pd.get_dummies(input_data,columns=categorical_features)"
   ]
  },
  {
   "cell_type": "code",
   "execution_count": 78,
   "metadata": {},
   "outputs": [
    {
     "data": {
      "text/plain": [
       "['payment_installments',\n",
       " 'payment_value',\n",
       " 'price',\n",
       " 'freight_value',\n",
       " 'product_description_lenght',\n",
       " 'product_photos_qty',\n",
       " 'Order_purchase_hour',\n",
       " 'Order_purchase_dayofweek',\n",
       " 'Time_taken_for_delivery',\n",
       " 'delivery_delay',\n",
       " 'order_status_delivered',\n",
       " 'product_category_name_english_cool_stuff',\n",
       " 'customer_city_florianopolis',\n",
       " 'customer_state_MG',\n",
       " 'payment_type_credit_card']"
      ]
     },
     "execution_count": 78,
     "metadata": {},
     "output_type": "execute_result"
    }
   ],
   "source": [
    "input_list = list(input_data.columns)\n",
    "input_list"
   ]
  },
  {
   "cell_type": "code",
   "execution_count": 80,
   "metadata": {},
   "outputs": [],
   "source": [
    "data_dict = {}\n",
    "for column_name in input_list:\n",
    "    data_dict[column_name] = input_data[column_name][0]"
   ]
  },
  {
   "cell_type": "code",
   "execution_count": 83,
   "metadata": {},
   "outputs": [
    {
     "data": {
      "text/plain": [
       "{'payment_installments': 3,\n",
       " 'payment_value': 18.59,\n",
       " 'price': 339.0,\n",
       " 'freight_value': 7.78,\n",
       " 'product_description_lenght': 664.0,\n",
       " 'product_photos_qty': 6,\n",
       " 'Order_purchase_hour': 6,\n",
       " 'Order_purchase_dayofweek': 4,\n",
       " 'Time_taken_for_delivery': 5,\n",
       " 'delivery_delay': -2,\n",
       " 'order_status_delivered': True,\n",
       " 'product_category_name_english_cool_stuff': True,\n",
       " 'customer_city_florianopolis': True,\n",
       " 'customer_state_MG': True,\n",
       " 'payment_type_credit_card': True}"
      ]
     },
     "execution_count": 83,
     "metadata": {},
     "output_type": "execute_result"
    }
   ],
   "source": [
    "data_dict"
   ]
  },
  {
   "cell_type": "code",
   "execution_count": 84,
   "metadata": {},
   "outputs": [],
   "source": [
    "inp = []\n",
    "for i in model_features:\n",
    "    if i in data_dict:\n",
    "        inp.append(data_dict[i])\n",
    "    else:\n",
    "        inp.append(False)"
   ]
  },
  {
   "cell_type": "code",
   "execution_count": 87,
   "metadata": {},
   "outputs": [],
   "source": [
    "input_datax = pd.DataFrame([inp],columns=model_features)"
   ]
  },
  {
   "cell_type": "code",
   "execution_count": 88,
   "metadata": {},
   "outputs": [
    {
     "data": {
      "text/html": [
       "<div>\n",
       "<style scoped>\n",
       "    .dataframe tbody tr th:only-of-type {\n",
       "        vertical-align: middle;\n",
       "    }\n",
       "\n",
       "    .dataframe tbody tr th {\n",
       "        vertical-align: top;\n",
       "    }\n",
       "\n",
       "    .dataframe thead th {\n",
       "        text-align: right;\n",
       "    }\n",
       "</style>\n",
       "<table border=\"1\" class=\"dataframe\">\n",
       "  <thead>\n",
       "    <tr style=\"text-align: right;\">\n",
       "      <th></th>\n",
       "      <th>payment_installments</th>\n",
       "      <th>payment_value</th>\n",
       "      <th>price</th>\n",
       "      <th>freight_value</th>\n",
       "      <th>product_description_lenght</th>\n",
       "      <th>product_photos_qty</th>\n",
       "      <th>Time_taken_for_delivery</th>\n",
       "      <th>delivery_delay</th>\n",
       "      <th>order_status_approved</th>\n",
       "      <th>order_status_canceled</th>\n",
       "      <th>...</th>\n",
       "      <th>customer_state_RR</th>\n",
       "      <th>customer_state_RS</th>\n",
       "      <th>customer_state_SC</th>\n",
       "      <th>customer_state_SE</th>\n",
       "      <th>customer_state_SP</th>\n",
       "      <th>customer_state_TO</th>\n",
       "      <th>payment_type_boleto</th>\n",
       "      <th>payment_type_credit_card</th>\n",
       "      <th>payment_type_debit_card</th>\n",
       "      <th>payment_type_voucher</th>\n",
       "    </tr>\n",
       "  </thead>\n",
       "  <tbody>\n",
       "    <tr>\n",
       "      <th>0</th>\n",
       "      <td>3</td>\n",
       "      <td>18.59</td>\n",
       "      <td>339.0</td>\n",
       "      <td>7.78</td>\n",
       "      <td>664.0</td>\n",
       "      <td>6</td>\n",
       "      <td>5</td>\n",
       "      <td>-2</td>\n",
       "      <td>False</td>\n",
       "      <td>False</td>\n",
       "      <td>...</td>\n",
       "      <td>False</td>\n",
       "      <td>False</td>\n",
       "      <td>False</td>\n",
       "      <td>False</td>\n",
       "      <td>False</td>\n",
       "      <td>False</td>\n",
       "      <td>False</td>\n",
       "      <td>True</td>\n",
       "      <td>False</td>\n",
       "      <td>False</td>\n",
       "    </tr>\n",
       "  </tbody>\n",
       "</table>\n",
       "<p>1 rows × 4210 columns</p>\n",
       "</div>"
      ],
      "text/plain": [
       "   payment_installments  payment_value  price  freight_value  \\\n",
       "0                     3          18.59  339.0           7.78   \n",
       "\n",
       "   product_description_lenght  product_photos_qty  Time_taken_for_delivery  \\\n",
       "0                       664.0                   6                        5   \n",
       "\n",
       "   delivery_delay  order_status_approved  order_status_canceled  ...  \\\n",
       "0              -2                  False                  False  ...   \n",
       "\n",
       "   customer_state_RR  customer_state_RS  customer_state_SC  customer_state_SE  \\\n",
       "0              False              False              False              False   \n",
       "\n",
       "   customer_state_SP  customer_state_TO  payment_type_boleto  \\\n",
       "0              False              False                False   \n",
       "\n",
       "   payment_type_credit_card  payment_type_debit_card  payment_type_voucher  \n",
       "0                      True                    False                 False  \n",
       "\n",
       "[1 rows x 4210 columns]"
      ]
     },
     "execution_count": 88,
     "metadata": {},
     "output_type": "execute_result"
    }
   ],
   "source": [
    "input_datax"
   ]
  },
  {
   "cell_type": "code",
   "execution_count": 89,
   "metadata": {},
   "outputs": [
    {
     "data": {
      "text/plain": [
       "array([4.7404947], dtype=float32)"
      ]
     },
     "execution_count": 89,
     "metadata": {},
     "output_type": "execute_result"
    }
   ],
   "source": [
    "modelx.predict(input_datax)"
   ]
  }
 ],
 "metadata": {
  "kernelspec": {
   "display_name": "recom",
   "language": "python",
   "name": "python3"
  },
  "language_info": {
   "codemirror_mode": {
    "name": "ipython",
    "version": 3
   },
   "file_extension": ".py",
   "mimetype": "text/x-python",
   "name": "python",
   "nbconvert_exporter": "python",
   "pygments_lexer": "ipython3",
   "version": "3.12.0"
  }
 },
 "nbformat": 4,
 "nbformat_minor": 2
}
