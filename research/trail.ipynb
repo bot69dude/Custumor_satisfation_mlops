{
 "cells": [
  {
   "cell_type": "code",
   "execution_count": 2,
   "metadata": {},
   "outputs": [
    {
     "data": {
      "text/html": [
       "<div>\n",
       "<style scoped>\n",
       "    .dataframe tbody tr th:only-of-type {\n",
       "        vertical-align: middle;\n",
       "    }\n",
       "\n",
       "    .dataframe tbody tr th {\n",
       "        vertical-align: top;\n",
       "    }\n",
       "\n",
       "    .dataframe thead th {\n",
       "        text-align: right;\n",
       "    }\n",
       "</style>\n",
       "<table border=\"1\" class=\"dataframe\">\n",
       "  <thead>\n",
       "    <tr style=\"text-align: right;\">\n",
       "      <th></th>\n",
       "      <th>order_id</th>\n",
       "      <th>customer_id</th>\n",
       "      <th>order_status</th>\n",
       "      <th>order_purchase_timestamp</th>\n",
       "      <th>order_approved_at</th>\n",
       "      <th>order_delivered_carrier_date</th>\n",
       "      <th>order_delivered_customer_date</th>\n",
       "      <th>order_estimated_delivery_date</th>\n",
       "      <th>payment_sequential</th>\n",
       "      <th>payment_type</th>\n",
       "      <th>...</th>\n",
       "      <th>product_name_lenght</th>\n",
       "      <th>product_description_lenght</th>\n",
       "      <th>product_photos_qty</th>\n",
       "      <th>product_weight_g</th>\n",
       "      <th>product_length_cm</th>\n",
       "      <th>product_height_cm</th>\n",
       "      <th>product_width_cm</th>\n",
       "      <th>product_category_name_english</th>\n",
       "      <th>review_score</th>\n",
       "      <th>review_comment_message</th>\n",
       "    </tr>\n",
       "  </thead>\n",
       "  <tbody>\n",
       "    <tr>\n",
       "      <th>0</th>\n",
       "      <td>e481f51cbdc54678b7cc49136f2d6af7</td>\n",
       "      <td>9ef432eb6251297304e76186b10a928d</td>\n",
       "      <td>delivered</td>\n",
       "      <td>2017-10-02 10:56:33</td>\n",
       "      <td>2017-10-02 11:07:15</td>\n",
       "      <td>2017-10-04 19:55:00</td>\n",
       "      <td>2017-10-10 21:25:13</td>\n",
       "      <td>2017-10-18 00:00:00</td>\n",
       "      <td>1</td>\n",
       "      <td>credit_card</td>\n",
       "      <td>...</td>\n",
       "      <td>40.0</td>\n",
       "      <td>268.0</td>\n",
       "      <td>4.0</td>\n",
       "      <td>500.0</td>\n",
       "      <td>19.0</td>\n",
       "      <td>8.0</td>\n",
       "      <td>13.0</td>\n",
       "      <td>housewares</td>\n",
       "      <td>4</td>\n",
       "      <td>Não testei o produto ainda, mas ele veio corre...</td>\n",
       "    </tr>\n",
       "    <tr>\n",
       "      <th>1</th>\n",
       "      <td>e481f51cbdc54678b7cc49136f2d6af7</td>\n",
       "      <td>9ef432eb6251297304e76186b10a928d</td>\n",
       "      <td>delivered</td>\n",
       "      <td>2017-10-02 10:56:33</td>\n",
       "      <td>2017-10-02 11:07:15</td>\n",
       "      <td>2017-10-04 19:55:00</td>\n",
       "      <td>2017-10-10 21:25:13</td>\n",
       "      <td>2017-10-18 00:00:00</td>\n",
       "      <td>3</td>\n",
       "      <td>voucher</td>\n",
       "      <td>...</td>\n",
       "      <td>40.0</td>\n",
       "      <td>268.0</td>\n",
       "      <td>4.0</td>\n",
       "      <td>500.0</td>\n",
       "      <td>19.0</td>\n",
       "      <td>8.0</td>\n",
       "      <td>13.0</td>\n",
       "      <td>housewares</td>\n",
       "      <td>4</td>\n",
       "      <td>Não testei o produto ainda, mas ele veio corre...</td>\n",
       "    </tr>\n",
       "    <tr>\n",
       "      <th>2</th>\n",
       "      <td>e481f51cbdc54678b7cc49136f2d6af7</td>\n",
       "      <td>9ef432eb6251297304e76186b10a928d</td>\n",
       "      <td>delivered</td>\n",
       "      <td>2017-10-02 10:56:33</td>\n",
       "      <td>2017-10-02 11:07:15</td>\n",
       "      <td>2017-10-04 19:55:00</td>\n",
       "      <td>2017-10-10 21:25:13</td>\n",
       "      <td>2017-10-18 00:00:00</td>\n",
       "      <td>2</td>\n",
       "      <td>voucher</td>\n",
       "      <td>...</td>\n",
       "      <td>40.0</td>\n",
       "      <td>268.0</td>\n",
       "      <td>4.0</td>\n",
       "      <td>500.0</td>\n",
       "      <td>19.0</td>\n",
       "      <td>8.0</td>\n",
       "      <td>13.0</td>\n",
       "      <td>housewares</td>\n",
       "      <td>4</td>\n",
       "      <td>Não testei o produto ainda, mas ele veio corre...</td>\n",
       "    </tr>\n",
       "    <tr>\n",
       "      <th>3</th>\n",
       "      <td>128e10d95713541c87cd1a2e48201934</td>\n",
       "      <td>a20e8105f23924cd00833fd87daa0831</td>\n",
       "      <td>delivered</td>\n",
       "      <td>2017-08-15 18:29:31</td>\n",
       "      <td>2017-08-15 20:05:16</td>\n",
       "      <td>2017-08-17 15:28:33</td>\n",
       "      <td>2017-08-18 14:44:43</td>\n",
       "      <td>2017-08-28 00:00:00</td>\n",
       "      <td>1</td>\n",
       "      <td>credit_card</td>\n",
       "      <td>...</td>\n",
       "      <td>40.0</td>\n",
       "      <td>268.0</td>\n",
       "      <td>4.0</td>\n",
       "      <td>500.0</td>\n",
       "      <td>19.0</td>\n",
       "      <td>8.0</td>\n",
       "      <td>13.0</td>\n",
       "      <td>housewares</td>\n",
       "      <td>4</td>\n",
       "      <td>Deveriam embalar melhor o produto. A caixa vei...</td>\n",
       "    </tr>\n",
       "    <tr>\n",
       "      <th>4</th>\n",
       "      <td>0e7e841ddf8f8f2de2bad69267ecfbcf</td>\n",
       "      <td>26c7ac168e1433912a51b924fbd34d34</td>\n",
       "      <td>delivered</td>\n",
       "      <td>2017-08-02 18:24:47</td>\n",
       "      <td>2017-08-02 18:43:15</td>\n",
       "      <td>2017-08-04 17:35:43</td>\n",
       "      <td>2017-08-07 18:30:01</td>\n",
       "      <td>2017-08-15 00:00:00</td>\n",
       "      <td>1</td>\n",
       "      <td>credit_card</td>\n",
       "      <td>...</td>\n",
       "      <td>40.0</td>\n",
       "      <td>268.0</td>\n",
       "      <td>4.0</td>\n",
       "      <td>500.0</td>\n",
       "      <td>19.0</td>\n",
       "      <td>8.0</td>\n",
       "      <td>13.0</td>\n",
       "      <td>housewares</td>\n",
       "      <td>5</td>\n",
       "      <td>Só achei ela pequena pra seis xícaras ,mais é ...</td>\n",
       "    </tr>\n",
       "    <tr>\n",
       "      <th>...</th>\n",
       "      <td>...</td>\n",
       "      <td>...</td>\n",
       "      <td>...</td>\n",
       "      <td>...</td>\n",
       "      <td>...</td>\n",
       "      <td>...</td>\n",
       "      <td>...</td>\n",
       "      <td>...</td>\n",
       "      <td>...</td>\n",
       "      <td>...</td>\n",
       "      <td>...</td>\n",
       "      <td>...</td>\n",
       "      <td>...</td>\n",
       "      <td>...</td>\n",
       "      <td>...</td>\n",
       "      <td>...</td>\n",
       "      <td>...</td>\n",
       "      <td>...</td>\n",
       "      <td>...</td>\n",
       "      <td>...</td>\n",
       "      <td>...</td>\n",
       "    </tr>\n",
       "    <tr>\n",
       "      <th>115604</th>\n",
       "      <td>0b82d0616f1ad8da15cf967b984b4004</td>\n",
       "      <td>986632b40c38f4240caf8608cb01d40d</td>\n",
       "      <td>delivered</td>\n",
       "      <td>2018-08-03 21:35:53</td>\n",
       "      <td>2018-08-04 04:25:14</td>\n",
       "      <td>2018-08-08 14:26:00</td>\n",
       "      <td>2018-08-09 21:42:08</td>\n",
       "      <td>2018-08-10 00:00:00</td>\n",
       "      <td>1</td>\n",
       "      <td>boleto</td>\n",
       "      <td>...</td>\n",
       "      <td>36.0</td>\n",
       "      <td>576.0</td>\n",
       "      <td>5.0</td>\n",
       "      <td>350.0</td>\n",
       "      <td>32.0</td>\n",
       "      <td>2.0</td>\n",
       "      <td>28.0</td>\n",
       "      <td>arts_and_craftmanship</td>\n",
       "      <td>5</td>\n",
       "      <td>NaN</td>\n",
       "    </tr>\n",
       "    <tr>\n",
       "      <th>115605</th>\n",
       "      <td>2ef4a11b6e24fdfbb43b92cb5f95edff</td>\n",
       "      <td>ee1cfdc92e449920e25d3ca4ab4da4f6</td>\n",
       "      <td>delivered</td>\n",
       "      <td>2018-07-23 18:35:14</td>\n",
       "      <td>2018-07-24 10:31:25</td>\n",
       "      <td>2018-07-24 14:37:00</td>\n",
       "      <td>2018-07-27 14:04:10</td>\n",
       "      <td>2018-08-06 00:00:00</td>\n",
       "      <td>1</td>\n",
       "      <td>credit_card</td>\n",
       "      <td>...</td>\n",
       "      <td>32.0</td>\n",
       "      <td>660.0</td>\n",
       "      <td>3.0</td>\n",
       "      <td>500.0</td>\n",
       "      <td>16.0</td>\n",
       "      <td>6.0</td>\n",
       "      <td>16.0</td>\n",
       "      <td>arts_and_craftmanship</td>\n",
       "      <td>3</td>\n",
       "      <td>Um dos frisadores que comprei, especificamente...</td>\n",
       "    </tr>\n",
       "    <tr>\n",
       "      <th>115606</th>\n",
       "      <td>2ef4a11b6e24fdfbb43b92cb5f95edff</td>\n",
       "      <td>ee1cfdc92e449920e25d3ca4ab4da4f6</td>\n",
       "      <td>delivered</td>\n",
       "      <td>2018-07-23 18:35:14</td>\n",
       "      <td>2018-07-24 10:31:25</td>\n",
       "      <td>2018-07-24 14:37:00</td>\n",
       "      <td>2018-07-27 14:04:10</td>\n",
       "      <td>2018-08-06 00:00:00</td>\n",
       "      <td>1</td>\n",
       "      <td>credit_card</td>\n",
       "      <td>...</td>\n",
       "      <td>57.0</td>\n",
       "      <td>942.0</td>\n",
       "      <td>5.0</td>\n",
       "      <td>500.0</td>\n",
       "      <td>21.0</td>\n",
       "      <td>7.0</td>\n",
       "      <td>14.0</td>\n",
       "      <td>arts_and_craftmanship</td>\n",
       "      <td>3</td>\n",
       "      <td>Um dos frisadores que comprei, especificamente...</td>\n",
       "    </tr>\n",
       "    <tr>\n",
       "      <th>115607</th>\n",
       "      <td>2c4ada2e75c2ad41dd93cebb5df5f023</td>\n",
       "      <td>363d3a9b2ec5c5426608688ca033292d</td>\n",
       "      <td>delivered</td>\n",
       "      <td>2017-01-26 11:09:00</td>\n",
       "      <td>2017-01-26 11:22:17</td>\n",
       "      <td>2017-01-27 14:59:35</td>\n",
       "      <td>2017-02-14 16:24:01</td>\n",
       "      <td>2017-03-07 00:00:00</td>\n",
       "      <td>1</td>\n",
       "      <td>credit_card</td>\n",
       "      <td>...</td>\n",
       "      <td>55.0</td>\n",
       "      <td>506.0</td>\n",
       "      <td>1.0</td>\n",
       "      <td>1225.0</td>\n",
       "      <td>27.0</td>\n",
       "      <td>35.0</td>\n",
       "      <td>15.0</td>\n",
       "      <td>security_and_services</td>\n",
       "      <td>4</td>\n",
       "      <td>Envio muito rápido. Recomendo.</td>\n",
       "    </tr>\n",
       "    <tr>\n",
       "      <th>115608</th>\n",
       "      <td>bede3503afed051733eeb4a84d1adcc5</td>\n",
       "      <td>919570a26efbd068d6a0f66d5c5072a3</td>\n",
       "      <td>delivered</td>\n",
       "      <td>2017-09-17 16:51:43</td>\n",
       "      <td>2017-09-19 04:05:52</td>\n",
       "      <td>2017-09-19 20:22:49</td>\n",
       "      <td>2017-09-28 18:14:35</td>\n",
       "      <td>2017-10-11 00:00:00</td>\n",
       "      <td>1</td>\n",
       "      <td>boleto</td>\n",
       "      <td>...</td>\n",
       "      <td>48.0</td>\n",
       "      <td>461.0</td>\n",
       "      <td>4.0</td>\n",
       "      <td>400.0</td>\n",
       "      <td>26.0</td>\n",
       "      <td>22.0</td>\n",
       "      <td>11.0</td>\n",
       "      <td>security_and_services</td>\n",
       "      <td>1</td>\n",
       "      <td>boa tarde produto enviado errado, terei que me...</td>\n",
       "    </tr>\n",
       "  </tbody>\n",
       "</table>\n",
       "<p>115609 rows × 33 columns</p>\n",
       "</div>"
      ],
      "text/plain": [
       "                                order_id                       customer_id  \\\n",
       "0       e481f51cbdc54678b7cc49136f2d6af7  9ef432eb6251297304e76186b10a928d   \n",
       "1       e481f51cbdc54678b7cc49136f2d6af7  9ef432eb6251297304e76186b10a928d   \n",
       "2       e481f51cbdc54678b7cc49136f2d6af7  9ef432eb6251297304e76186b10a928d   \n",
       "3       128e10d95713541c87cd1a2e48201934  a20e8105f23924cd00833fd87daa0831   \n",
       "4       0e7e841ddf8f8f2de2bad69267ecfbcf  26c7ac168e1433912a51b924fbd34d34   \n",
       "...                                  ...                               ...   \n",
       "115604  0b82d0616f1ad8da15cf967b984b4004  986632b40c38f4240caf8608cb01d40d   \n",
       "115605  2ef4a11b6e24fdfbb43b92cb5f95edff  ee1cfdc92e449920e25d3ca4ab4da4f6   \n",
       "115606  2ef4a11b6e24fdfbb43b92cb5f95edff  ee1cfdc92e449920e25d3ca4ab4da4f6   \n",
       "115607  2c4ada2e75c2ad41dd93cebb5df5f023  363d3a9b2ec5c5426608688ca033292d   \n",
       "115608  bede3503afed051733eeb4a84d1adcc5  919570a26efbd068d6a0f66d5c5072a3   \n",
       "\n",
       "       order_status order_purchase_timestamp    order_approved_at  \\\n",
       "0         delivered      2017-10-02 10:56:33  2017-10-02 11:07:15   \n",
       "1         delivered      2017-10-02 10:56:33  2017-10-02 11:07:15   \n",
       "2         delivered      2017-10-02 10:56:33  2017-10-02 11:07:15   \n",
       "3         delivered      2017-08-15 18:29:31  2017-08-15 20:05:16   \n",
       "4         delivered      2017-08-02 18:24:47  2017-08-02 18:43:15   \n",
       "...             ...                      ...                  ...   \n",
       "115604    delivered      2018-08-03 21:35:53  2018-08-04 04:25:14   \n",
       "115605    delivered      2018-07-23 18:35:14  2018-07-24 10:31:25   \n",
       "115606    delivered      2018-07-23 18:35:14  2018-07-24 10:31:25   \n",
       "115607    delivered      2017-01-26 11:09:00  2017-01-26 11:22:17   \n",
       "115608    delivered      2017-09-17 16:51:43  2017-09-19 04:05:52   \n",
       "\n",
       "       order_delivered_carrier_date order_delivered_customer_date  \\\n",
       "0               2017-10-04 19:55:00           2017-10-10 21:25:13   \n",
       "1               2017-10-04 19:55:00           2017-10-10 21:25:13   \n",
       "2               2017-10-04 19:55:00           2017-10-10 21:25:13   \n",
       "3               2017-08-17 15:28:33           2017-08-18 14:44:43   \n",
       "4               2017-08-04 17:35:43           2017-08-07 18:30:01   \n",
       "...                             ...                           ...   \n",
       "115604          2018-08-08 14:26:00           2018-08-09 21:42:08   \n",
       "115605          2018-07-24 14:37:00           2018-07-27 14:04:10   \n",
       "115606          2018-07-24 14:37:00           2018-07-27 14:04:10   \n",
       "115607          2017-01-27 14:59:35           2017-02-14 16:24:01   \n",
       "115608          2017-09-19 20:22:49           2017-09-28 18:14:35   \n",
       "\n",
       "       order_estimated_delivery_date  payment_sequential payment_type  ...  \\\n",
       "0                2017-10-18 00:00:00                   1  credit_card  ...   \n",
       "1                2017-10-18 00:00:00                   3      voucher  ...   \n",
       "2                2017-10-18 00:00:00                   2      voucher  ...   \n",
       "3                2017-08-28 00:00:00                   1  credit_card  ...   \n",
       "4                2017-08-15 00:00:00                   1  credit_card  ...   \n",
       "...                              ...                 ...          ...  ...   \n",
       "115604           2018-08-10 00:00:00                   1       boleto  ...   \n",
       "115605           2018-08-06 00:00:00                   1  credit_card  ...   \n",
       "115606           2018-08-06 00:00:00                   1  credit_card  ...   \n",
       "115607           2017-03-07 00:00:00                   1  credit_card  ...   \n",
       "115608           2017-10-11 00:00:00                   1       boleto  ...   \n",
       "\n",
       "        product_name_lenght  product_description_lenght product_photos_qty  \\\n",
       "0                      40.0                       268.0                4.0   \n",
       "1                      40.0                       268.0                4.0   \n",
       "2                      40.0                       268.0                4.0   \n",
       "3                      40.0                       268.0                4.0   \n",
       "4                      40.0                       268.0                4.0   \n",
       "...                     ...                         ...                ...   \n",
       "115604                 36.0                       576.0                5.0   \n",
       "115605                 32.0                       660.0                3.0   \n",
       "115606                 57.0                       942.0                5.0   \n",
       "115607                 55.0                       506.0                1.0   \n",
       "115608                 48.0                       461.0                4.0   \n",
       "\n",
       "        product_weight_g product_length_cm product_height_cm  \\\n",
       "0                  500.0              19.0               8.0   \n",
       "1                  500.0              19.0               8.0   \n",
       "2                  500.0              19.0               8.0   \n",
       "3                  500.0              19.0               8.0   \n",
       "4                  500.0              19.0               8.0   \n",
       "...                  ...               ...               ...   \n",
       "115604             350.0              32.0               2.0   \n",
       "115605             500.0              16.0               6.0   \n",
       "115606             500.0              21.0               7.0   \n",
       "115607            1225.0              27.0              35.0   \n",
       "115608             400.0              26.0              22.0   \n",
       "\n",
       "        product_width_cm product_category_name_english review_score  \\\n",
       "0                   13.0                    housewares            4   \n",
       "1                   13.0                    housewares            4   \n",
       "2                   13.0                    housewares            4   \n",
       "3                   13.0                    housewares            4   \n",
       "4                   13.0                    housewares            5   \n",
       "...                  ...                           ...          ...   \n",
       "115604              28.0         arts_and_craftmanship            5   \n",
       "115605              16.0         arts_and_craftmanship            3   \n",
       "115606              14.0         arts_and_craftmanship            3   \n",
       "115607              15.0         security_and_services            4   \n",
       "115608              11.0         security_and_services            1   \n",
       "\n",
       "                                   review_comment_message  \n",
       "0       Não testei o produto ainda, mas ele veio corre...  \n",
       "1       Não testei o produto ainda, mas ele veio corre...  \n",
       "2       Não testei o produto ainda, mas ele veio corre...  \n",
       "3       Deveriam embalar melhor o produto. A caixa vei...  \n",
       "4       Só achei ela pequena pra seis xícaras ,mais é ...  \n",
       "...                                                   ...  \n",
       "115604                                                NaN  \n",
       "115605  Um dos frisadores que comprei, especificamente...  \n",
       "115606  Um dos frisadores que comprei, especificamente...  \n",
       "115607                     Envio muito rápido. Recomendo.  \n",
       "115608  boa tarde produto enviado errado, terei que me...  \n",
       "\n",
       "[115609 rows x 33 columns]"
      ]
     },
     "execution_count": 2,
     "metadata": {},
     "output_type": "execute_result"
    }
   ],
   "source": [
    "import pandas as pd\n",
    "\n",
    "df = pd.read_csv(\"olist_customers_dataset.csv\")\n",
    "\n",
    "df"
   ]
  },
  {
   "cell_type": "code",
   "execution_count": 3,
   "metadata": {},
   "outputs": [
    {
     "data": {
      "text/plain": [
       "Index(['order_id', 'customer_id', 'order_status', 'order_purchase_timestamp',\n",
       "       'order_approved_at', 'order_delivered_carrier_date',\n",
       "       'order_delivered_customer_date', 'order_estimated_delivery_date',\n",
       "       'payment_sequential', 'payment_type', 'payment_installments',\n",
       "       'payment_value', 'customer_unique_id', 'customer_zip_code_prefix',\n",
       "       'customer_city', 'customer_state', 'order_item_id', 'product_id',\n",
       "       'seller_id', 'shipping_limit_date', 'price', 'freight_value',\n",
       "       'product_category_name', 'product_name_lenght',\n",
       "       'product_description_lenght', 'product_photos_qty', 'product_weight_g',\n",
       "       'product_length_cm', 'product_height_cm', 'product_width_cm',\n",
       "       'product_category_name_english', 'review_score',\n",
       "       'review_comment_message'],\n",
       "      dtype='object')"
      ]
     },
     "execution_count": 3,
     "metadata": {},
     "output_type": "execute_result"
    }
   ],
   "source": [
    "df.columns"
   ]
  },
  {
   "cell_type": "code",
   "execution_count": 4,
   "metadata": {},
   "outputs": [
    {
     "name": "stdout",
     "output_type": "stream",
     "text": [
      "<class 'pandas.core.frame.DataFrame'>\n",
      "RangeIndex: 115609 entries, 0 to 115608\n",
      "Data columns (total 33 columns):\n",
      " #   Column                         Non-Null Count   Dtype  \n",
      "---  ------                         --------------   -----  \n",
      " 0   order_id                       115609 non-null  object \n",
      " 1   customer_id                    115609 non-null  object \n",
      " 2   order_status                   115609 non-null  object \n",
      " 3   order_purchase_timestamp       115609 non-null  object \n",
      " 4   order_approved_at              115595 non-null  object \n",
      " 5   order_delivered_carrier_date   114414 non-null  object \n",
      " 6   order_delivered_customer_date  113209 non-null  object \n",
      " 7   order_estimated_delivery_date  115609 non-null  object \n",
      " 8   payment_sequential             115609 non-null  int64  \n",
      " 9   payment_type                   115609 non-null  object \n",
      " 10  payment_installments           115609 non-null  int64  \n",
      " 11  payment_value                  115609 non-null  float64\n",
      " 12  customer_unique_id             115609 non-null  object \n",
      " 13  customer_zip_code_prefix       115609 non-null  int64  \n",
      " 14  customer_city                  115609 non-null  object \n",
      " 15  customer_state                 115609 non-null  object \n",
      " 16  order_item_id                  115609 non-null  int64  \n",
      " 17  product_id                     115609 non-null  object \n",
      " 18  seller_id                      115609 non-null  object \n",
      " 19  shipping_limit_date            115609 non-null  object \n",
      " 20  price                          115609 non-null  float64\n",
      " 21  freight_value                  115609 non-null  float64\n",
      " 22  product_category_name          115609 non-null  object \n",
      " 23  product_name_lenght            115609 non-null  float64\n",
      " 24  product_description_lenght     115609 non-null  float64\n",
      " 25  product_photos_qty             115609 non-null  float64\n",
      " 26  product_weight_g               115608 non-null  float64\n",
      " 27  product_length_cm              115608 non-null  float64\n",
      " 28  product_height_cm              115608 non-null  float64\n",
      " 29  product_width_cm               115608 non-null  float64\n",
      " 30  product_category_name_english  115609 non-null  object \n",
      " 31  review_score                   115609 non-null  int64  \n",
      " 32  review_comment_message         48906 non-null   object \n",
      "dtypes: float64(10), int64(5), object(18)\n",
      "memory usage: 29.1+ MB\n"
     ]
    }
   ],
   "source": [
    "df.info()"
   ]
  },
  {
   "cell_type": "code",
   "execution_count": 5,
   "metadata": {},
   "outputs": [
    {
     "name": "stdout",
     "output_type": "stream",
     "text": [
      "0        2017-10-02 10:56:33\n",
      "1        2017-10-02 10:56:33\n",
      "2        2017-10-02 10:56:33\n",
      "3        2017-08-15 18:29:31\n",
      "4        2017-08-02 18:24:47\n",
      "                 ...        \n",
      "115604   2018-08-03 21:35:53\n",
      "115605   2018-07-23 18:35:14\n",
      "115606   2018-07-23 18:35:14\n",
      "115607   2017-01-26 11:09:00\n",
      "115608   2017-09-17 16:51:43\n",
      "Name: order_purchase_timestamp, Length: 115609, dtype: datetime64[ns]\n"
     ]
    }
   ],
   "source": [
    "import pandas as pd\n",
    "\n",
    "# Assuming df is your DataFrame\n",
    "df['order_purchase_timestamp'] = pd.to_datetime(df['order_purchase_timestamp'])\n",
    "\n",
    "# Now, the 'order_purchase_timestamp' column will be converted to datetime dtype\n",
    "print(df['order_purchase_timestamp'])\n"
   ]
  },
  {
   "cell_type": "code",
   "execution_count": 6,
   "metadata": {},
   "outputs": [
    {
     "name": "stdout",
     "output_type": "stream",
     "text": [
      "       order_purchase_timestamp  Order_purchase_hour  Order_purchase_dayofweek\n",
      "0           2017-10-02 10:56:33                   10                         0\n",
      "1           2017-10-02 10:56:33                   10                         0\n",
      "2           2017-10-02 10:56:33                   10                         0\n",
      "3           2017-08-15 18:29:31                   18                         1\n",
      "4           2017-08-02 18:24:47                   18                         2\n",
      "...                         ...                  ...                       ...\n",
      "115604      2018-08-03 21:35:53                   21                         4\n",
      "115605      2018-07-23 18:35:14                   18                         0\n",
      "115606      2018-07-23 18:35:14                   18                         0\n",
      "115607      2017-01-26 11:09:00                   11                         3\n",
      "115608      2017-09-17 16:51:43                   16                         6\n",
      "\n",
      "[115609 rows x 3 columns]\n"
     ]
    }
   ],
   "source": [
    "import pandas as pd\n",
    "\n",
    "# Assuming df is your DataFrame\n",
    "df['order_purchase_timestamp'] = pd.to_datetime(df['order_purchase_timestamp'], unit='s')\n",
    "\n",
    "# Now that 'order_purchase_timestamp' is converted to datetime dtype, you can use the .dt accessor\n",
    "df['Order_purchase_hour'] = df['order_purchase_timestamp'].dt.hour\n",
    "df['Order_purchase_dayofweek'] = df['order_purchase_timestamp'].dt.dayofweek\n",
    "\n",
    "# Now, you should be able to access hour and day of the week attributes\n",
    "print(df[['order_purchase_timestamp', 'Order_purchase_hour', 'Order_purchase_dayofweek']])\n",
    "\n"
   ]
  },
  {
   "cell_type": "code",
   "execution_count": 7,
   "metadata": {},
   "outputs": [
    {
     "data": {
      "text/plain": [
       "0        2017-10-02 10:56:33\n",
       "1        2017-10-02 10:56:33\n",
       "2        2017-10-02 10:56:33\n",
       "3        2017-08-15 18:29:31\n",
       "4        2017-08-02 18:24:47\n",
       "                 ...        \n",
       "115604   2018-08-03 21:35:53\n",
       "115605   2018-07-23 18:35:14\n",
       "115606   2018-07-23 18:35:14\n",
       "115607   2017-01-26 11:09:00\n",
       "115608   2017-09-17 16:51:43\n",
       "Name: order_purchase_timestamp, Length: 115609, dtype: datetime64[ns]"
      ]
     },
     "execution_count": 7,
     "metadata": {},
     "output_type": "execute_result"
    }
   ],
   "source": [
    "df['order_purchase_timestamp']"
   ]
  },
  {
   "cell_type": "code",
   "execution_count": 8,
   "metadata": {},
   "outputs": [
    {
     "name": "stdout",
     "output_type": "stream",
     "text": [
      "       order_purchase_timestamp order_delivered_customer_date  \\\n",
      "0           2017-10-02 10:56:33           2017-10-10 21:25:13   \n",
      "1           2017-10-02 10:56:33           2017-10-10 21:25:13   \n",
      "2           2017-10-02 10:56:33           2017-10-10 21:25:13   \n",
      "3           2017-08-15 18:29:31           2017-08-18 14:44:43   \n",
      "4           2017-08-02 18:24:47           2017-08-07 18:30:01   \n",
      "...                         ...                           ...   \n",
      "115604      2018-08-03 21:35:53           2018-08-09 21:42:08   \n",
      "115605      2018-07-23 18:35:14           2018-07-27 14:04:10   \n",
      "115606      2018-07-23 18:35:14           2018-07-27 14:04:10   \n",
      "115607      2017-01-26 11:09:00           2017-02-14 16:24:01   \n",
      "115608      2017-09-17 16:51:43           2017-09-28 18:14:35   \n",
      "\n",
      "        Time_taken_for_delivery  \n",
      "0                           8.0  \n",
      "1                           8.0  \n",
      "2                           8.0  \n",
      "3                           2.0  \n",
      "4                           5.0  \n",
      "...                         ...  \n",
      "115604                      6.0  \n",
      "115605                      3.0  \n",
      "115606                      3.0  \n",
      "115607                     19.0  \n",
      "115608                     11.0  \n",
      "\n",
      "[115609 rows x 3 columns]\n"
     ]
    }
   ],
   "source": [
    "import pandas as pd\n",
    "\n",
    "# Assuming df is your DataFrame\n",
    "df['order_purchase_timestamp'] = pd.to_datetime(df['order_purchase_timestamp'])\n",
    "df['order_delivered_customer_date'] = pd.to_datetime(df['order_delivered_customer_date'])\n",
    "\n",
    "# Now that both columns are in datetime format, you can perform the subtraction\n",
    "df['Time_taken_for_delivery'] = (df['order_delivered_customer_date'] - df['order_purchase_timestamp']).dt.days\n",
    "\n",
    "# Now, you should be able to calculate the time taken for delivery\n",
    "print(df[['order_purchase_timestamp', 'order_delivered_customer_date', 'Time_taken_for_delivery']])\n"
   ]
  },
  {
   "cell_type": "code",
   "execution_count": 9,
   "metadata": {},
   "outputs": [
    {
     "name": "stdout",
     "output_type": "stream",
     "text": [
      "<class 'pandas.core.frame.DataFrame'>\n",
      "RangeIndex: 115609 entries, 0 to 115608\n",
      "Data columns (total 36 columns):\n",
      " #   Column                         Non-Null Count   Dtype         \n",
      "---  ------                         --------------   -----         \n",
      " 0   order_id                       115609 non-null  object        \n",
      " 1   customer_id                    115609 non-null  object        \n",
      " 2   order_status                   115609 non-null  object        \n",
      " 3   order_purchase_timestamp       115609 non-null  datetime64[ns]\n",
      " 4   order_approved_at              115595 non-null  object        \n",
      " 5   order_delivered_carrier_date   114414 non-null  object        \n",
      " 6   order_delivered_customer_date  113209 non-null  datetime64[ns]\n",
      " 7   order_estimated_delivery_date  115609 non-null  object        \n",
      " 8   payment_sequential             115609 non-null  int64         \n",
      " 9   payment_type                   115609 non-null  object        \n",
      " 10  payment_installments           115609 non-null  int64         \n",
      " 11  payment_value                  115609 non-null  float64       \n",
      " 12  customer_unique_id             115609 non-null  object        \n",
      " 13  customer_zip_code_prefix       115609 non-null  int64         \n",
      " 14  customer_city                  115609 non-null  object        \n",
      " 15  customer_state                 115609 non-null  object        \n",
      " 16  order_item_id                  115609 non-null  int64         \n",
      " 17  product_id                     115609 non-null  object        \n",
      " 18  seller_id                      115609 non-null  object        \n",
      " 19  shipping_limit_date            115609 non-null  object        \n",
      " 20  price                          115609 non-null  float64       \n",
      " 21  freight_value                  115609 non-null  float64       \n",
      " 22  product_category_name          115609 non-null  object        \n",
      " 23  product_name_lenght            115609 non-null  float64       \n",
      " 24  product_description_lenght     115609 non-null  float64       \n",
      " 25  product_photos_qty             115609 non-null  float64       \n",
      " 26  product_weight_g               115608 non-null  float64       \n",
      " 27  product_length_cm              115608 non-null  float64       \n",
      " 28  product_height_cm              115608 non-null  float64       \n",
      " 29  product_width_cm               115608 non-null  float64       \n",
      " 30  product_category_name_english  115609 non-null  object        \n",
      " 31  review_score                   115609 non-null  int64         \n",
      " 32  review_comment_message         48906 non-null   object        \n",
      " 33  Order_purchase_hour            115609 non-null  int32         \n",
      " 34  Order_purchase_dayofweek       115609 non-null  int32         \n",
      " 35  Time_taken_for_delivery        113209 non-null  float64       \n",
      "dtypes: datetime64[ns](2), float64(11), int32(2), int64(5), object(16)\n",
      "memory usage: 30.9+ MB\n"
     ]
    }
   ],
   "source": [
    "df.info(verbose=True)"
   ]
  },
  {
   "cell_type": "code",
   "execution_count": 10,
   "metadata": {},
   "outputs": [
    {
     "data": {
      "text/plain": [
       "Index(['order_id', 'customer_id', 'order_status', 'order_purchase_timestamp',\n",
       "       'order_approved_at', 'order_delivered_carrier_date',\n",
       "       'order_delivered_customer_date', 'order_estimated_delivery_date',\n",
       "       'payment_sequential', 'payment_type', 'payment_installments',\n",
       "       'payment_value', 'customer_unique_id', 'customer_zip_code_prefix',\n",
       "       'customer_city', 'customer_state', 'order_item_id', 'product_id',\n",
       "       'seller_id', 'shipping_limit_date', 'price', 'freight_value',\n",
       "       'product_category_name', 'product_name_lenght',\n",
       "       'product_description_lenght', 'product_photos_qty', 'product_weight_g',\n",
       "       'product_length_cm', 'product_height_cm', 'product_width_cm',\n",
       "       'product_category_name_english', 'review_score',\n",
       "       'review_comment_message', 'Order_purchase_hour',\n",
       "       'Order_purchase_dayofweek', 'Time_taken_for_delivery'],\n",
       "      dtype='object')"
      ]
     },
     "execution_count": 10,
     "metadata": {},
     "output_type": "execute_result"
    }
   ],
   "source": [
    "df.columns"
   ]
  },
  {
   "cell_type": "code",
   "execution_count": 11,
   "metadata": {},
   "outputs": [],
   "source": [
    "# List of IDs to be dropped\n",
    "ids_to_drop = [\n",
    "    'order_id', 'customer_id', 'payment_sequential',\n",
    "    'customer_unique_id', 'order_item_id', 'product_id',\n",
    "    'seller_id'\n",
    "]\n",
    "\n",
    "# Drop the IDs from the DataFrame\n",
    "df = df.drop(columns=ids_to_drop)\n"
   ]
  },
  {
   "cell_type": "code",
   "execution_count": 12,
   "metadata": {},
   "outputs": [
    {
     "data": {
      "text/plain": [
       "Index(['order_status', 'order_purchase_timestamp', 'order_approved_at',\n",
       "       'order_delivered_carrier_date', 'order_delivered_customer_date',\n",
       "       'order_estimated_delivery_date', 'payment_type', 'payment_installments',\n",
       "       'payment_value', 'customer_zip_code_prefix', 'customer_city',\n",
       "       'customer_state', 'shipping_limit_date', 'price', 'freight_value',\n",
       "       'product_category_name', 'product_name_lenght',\n",
       "       'product_description_lenght', 'product_photos_qty', 'product_weight_g',\n",
       "       'product_length_cm', 'product_height_cm', 'product_width_cm',\n",
       "       'product_category_name_english', 'review_score',\n",
       "       'review_comment_message', 'Order_purchase_hour',\n",
       "       'Order_purchase_dayofweek', 'Time_taken_for_delivery'],\n",
       "      dtype='object')"
      ]
     },
     "execution_count": 12,
     "metadata": {},
     "output_type": "execute_result"
    }
   ],
   "source": [
    "df.columns"
   ]
  },
  {
   "cell_type": "code",
   "execution_count": 13,
   "metadata": {},
   "outputs": [
    {
     "data": {
      "text/plain": [
       "array(['sao paulo', 'florianopolis', 'presidente venceslau', ...,\n",
       "       'alto alegre do iguacu', 'nova guataporanga', 'itape'],\n",
       "      dtype=object)"
      ]
     },
     "execution_count": 13,
     "metadata": {},
     "output_type": "execute_result"
    }
   ],
   "source": [
    "df['customer_city'].unique()"
   ]
  },
  {
   "cell_type": "code",
   "execution_count": 14,
   "metadata": {},
   "outputs": [],
   "source": [
    "df['order_estimated_delivery_date'] = pd.to_datetime(df['order_estimated_delivery_date'])"
   ]
  },
  {
   "cell_type": "code",
   "execution_count": 15,
   "metadata": {},
   "outputs": [
    {
     "name": "stdout",
     "output_type": "stream",
     "text": [
      "       order_delivered_customer_date order_estimated_delivery_date  \\\n",
      "0                2017-10-10 21:25:13                    2017-10-18   \n",
      "1                2017-10-10 21:25:13                    2017-10-18   \n",
      "2                2017-10-10 21:25:13                    2017-10-18   \n",
      "3                2017-08-18 14:44:43                    2017-08-28   \n",
      "4                2017-08-07 18:30:01                    2017-08-15   \n",
      "...                              ...                           ...   \n",
      "115604           2018-08-09 21:42:08                    2018-08-10   \n",
      "115605           2018-07-27 14:04:10                    2018-08-06   \n",
      "115606           2018-07-27 14:04:10                    2018-08-06   \n",
      "115607           2017-02-14 16:24:01                    2017-03-07   \n",
      "115608           2017-09-28 18:14:35                    2017-10-11   \n",
      "\n",
      "        delivery_delay  \n",
      "0                 -8.0  \n",
      "1                 -8.0  \n",
      "2                 -8.0  \n",
      "3                -10.0  \n",
      "4                 -8.0  \n",
      "...                ...  \n",
      "115604            -1.0  \n",
      "115605           -10.0  \n",
      "115606           -10.0  \n",
      "115607           -21.0  \n",
      "115608           -13.0  \n",
      "\n",
      "[115609 rows x 3 columns]\n"
     ]
    }
   ],
   "source": [
    "# Calculate the time delay between delivery date and estimated delivery date\n",
    "df['delivery_delay'] = (df['order_delivered_customer_date'] - df['order_estimated_delivery_date']).dt.days\n",
    "\n",
    "# Now, 'delivery_delay' represents the delay between delivery date and estimated delivery date in days\n",
    "print(df[['order_delivered_customer_date', 'order_estimated_delivery_date', 'delivery_delay']])\n"
   ]
  },
  {
   "cell_type": "code",
   "execution_count": 16,
   "metadata": {},
   "outputs": [
    {
     "data": {
      "text/plain": [
       "array([  -8.,  -10.,   -6.,    7.,   -2.,  -18.,    1.,  -11.,   -9.,\n",
       "        -16.,  -24.,   -3.,  -20.,  -15.,  -13.,   15.,   -7.,  -21.,\n",
       "          0.,    5.,  -14.,   -4.,  -19.,    2.,   nan,   -1.,   -5.,\n",
       "        -12.,  -17.,    6.,   13.,   22.,  -23.,  -31.,  -22.,  -30.,\n",
       "        -26.,  -27.,  -25.,   44.,    4.,  -28.,   49.,   16.,    9.,\n",
       "         30.,    3.,  -46.,  -42.,  -32.,   32.,   20.,   35.,   41.,\n",
       "        -40.,  -35.,   33.,   29.,   10.,  -45.,   19.,    8.,   77.,\n",
       "        -36.,  -38.,  -44.,  -34.,  -29.,   28.,  -33.,   38.,  -37.,\n",
       "        -43.,   14.,   23.,  -39.,  -48.,   26.,   21.,   11.,   17.,\n",
       "         24.,  -50.,  -49.,  -59.,  -55.,   12.,   43.,  -47.,   18.,\n",
       "       -124.,  -57.,   27.,  -56.,  -41.,   31.,  161.,  105.,  152.,\n",
       "        -66.,   59.,  -53.,  -58.,   46.,   25.,  121.,  -52.,   36.,\n",
       "        -64.,   54.,   52.,   34.,   94.,   73.,   79.,   42.,   60.,\n",
       "         58.,  159.,   40.,   45.,   56.,  153.,   47.,   53.,   96.,\n",
       "         83.,   69.,   48.,   91.,  109.,   37.,  -69.,  -83.,  -51.,\n",
       "        -68.,  -75.,  -77.,   55.,  110.,  -60.,   80.,  -73.,  -78.,\n",
       "       -147.,  -62.,  -61., -135.,  144.,  -84.,  -76.,  167.,  -71.,\n",
       "         50.,  155.,   39.,  143.,   51.,  104.,   57.,  132.,   63.,\n",
       "        126.,  -54.,  -65.,  111.,   70.,   78.,   88.,  123.,   75.,\n",
       "         74.,  134.,   97.,   66.,   68.,   81.,  188.,   82.,  138.,\n",
       "         67.,  106.,  -67.,   65.,  -63.,   72.,  166., -140.,  137.,\n",
       "        165.,  175.,  162.,   85., -109.,   76.])"
      ]
     },
     "execution_count": 16,
     "metadata": {},
     "output_type": "execute_result"
    }
   ],
   "source": [
    "df['delivery_delay'].unique()"
   ]
  },
  {
   "cell_type": "code",
   "execution_count": 17,
   "metadata": {},
   "outputs": [
    {
     "data": {
      "text/plain": [
       "Index(['order_status', 'order_purchase_timestamp', 'order_approved_at',\n",
       "       'order_delivered_carrier_date', 'order_delivered_customer_date',\n",
       "       'order_estimated_delivery_date', 'payment_type', 'payment_installments',\n",
       "       'payment_value', 'customer_zip_code_prefix', 'customer_city',\n",
       "       'customer_state', 'shipping_limit_date', 'price', 'freight_value',\n",
       "       'product_category_name', 'product_name_lenght',\n",
       "       'product_description_lenght', 'product_photos_qty', 'product_weight_g',\n",
       "       'product_length_cm', 'product_height_cm', 'product_width_cm',\n",
       "       'product_category_name_english', 'review_score',\n",
       "       'review_comment_message', 'Order_purchase_hour',\n",
       "       'Order_purchase_dayofweek', 'Time_taken_for_delivery',\n",
       "       'delivery_delay'],\n",
       "      dtype='object')"
      ]
     },
     "execution_count": 17,
     "metadata": {},
     "output_type": "execute_result"
    }
   ],
   "source": [
    "df.columns"
   ]
  },
  {
   "cell_type": "code",
   "execution_count": 18,
   "metadata": {},
   "outputs": [],
   "source": [
    "\n",
    "# Features to drop\n",
    "features_to_drop = [\n",
    "    'order_purchase_timestamp',\n",
    "    'order_approved_at',\n",
    "    'order_delivered_carrier_date',\n",
    "    'order_delivered_customer_date',\n",
    "    'order_estimated_delivery_date',\n",
    "    'customer_zip_code_prefix',\n",
    "    'shipping_limit_date',\n",
    "    'product_weight_g',\n",
    "    'product_length_cm',\n",
    "    'product_height_cm',\n",
    "    'product_width_cm',\n",
    "]\n",
    "\n",
    "# Drop the specified features from the DataFrame\n",
    "df = df.drop(columns=features_to_drop)\n"
   ]
  },
  {
   "cell_type": "code",
   "execution_count": 19,
   "metadata": {},
   "outputs": [
    {
     "name": "stdout",
     "output_type": "stream",
     "text": [
      "<class 'pandas.core.frame.DataFrame'>\n",
      "RangeIndex: 115609 entries, 0 to 115608\n",
      "Data columns (total 19 columns):\n",
      " #   Column                         Non-Null Count   Dtype  \n",
      "---  ------                         --------------   -----  \n",
      " 0   order_status                   115609 non-null  object \n",
      " 1   payment_type                   115609 non-null  object \n",
      " 2   payment_installments           115609 non-null  int64  \n",
      " 3   payment_value                  115609 non-null  float64\n",
      " 4   customer_city                  115609 non-null  object \n",
      " 5   customer_state                 115609 non-null  object \n",
      " 6   price                          115609 non-null  float64\n",
      " 7   freight_value                  115609 non-null  float64\n",
      " 8   product_category_name          115609 non-null  object \n",
      " 9   product_name_lenght            115609 non-null  float64\n",
      " 10  product_description_lenght     115609 non-null  float64\n",
      " 11  product_photos_qty             115609 non-null  float64\n",
      " 12  product_category_name_english  115609 non-null  object \n",
      " 13  review_score                   115609 non-null  int64  \n",
      " 14  review_comment_message         48906 non-null   object \n",
      " 15  Order_purchase_hour            115609 non-null  int32  \n",
      " 16  Order_purchase_dayofweek       115609 non-null  int32  \n",
      " 17  Time_taken_for_delivery        113209 non-null  float64\n",
      " 18  delivery_delay                 113209 non-null  float64\n",
      "dtypes: float64(8), int32(2), int64(2), object(7)\n",
      "memory usage: 15.9+ MB\n"
     ]
    }
   ],
   "source": [
    "df.info(verbose=True)"
   ]
  },
  {
   "cell_type": "code",
   "execution_count": 20,
   "metadata": {},
   "outputs": [
    {
     "data": {
      "text/plain": [
       "Index(['order_status', 'payment_type', 'payment_installments', 'payment_value',\n",
       "       'customer_city', 'customer_state', 'price', 'freight_value',\n",
       "       'product_category_name', 'product_name_lenght',\n",
       "       'product_description_lenght', 'product_photos_qty',\n",
       "       'product_category_name_english', 'review_score',\n",
       "       'review_comment_message', 'Order_purchase_hour',\n",
       "       'Order_purchase_dayofweek', 'Time_taken_for_delivery',\n",
       "       'delivery_delay'],\n",
       "      dtype='object')"
      ]
     },
     "execution_count": 20,
     "metadata": {},
     "output_type": "execute_result"
    }
   ],
   "source": [
    "df.columns"
   ]
  },
  {
   "cell_type": "code",
   "execution_count": 21,
   "metadata": {},
   "outputs": [
    {
     "name": "stdout",
     "output_type": "stream",
     "text": [
      "   payment_installments  payment_value  price  freight_value  \\\n",
      "0                     1          18.12  29.99           8.72   \n",
      "1                     1           2.00  29.99           8.72   \n",
      "2                     1          18.59  29.99           8.72   \n",
      "3                     3          37.77  29.99           7.78   \n",
      "4                     1          37.77  29.99           7.78   \n",
      "\n",
      "   product_name_lenght  product_description_lenght  product_photos_qty  \\\n",
      "0                 40.0                       268.0                 4.0   \n",
      "1                 40.0                       268.0                 4.0   \n",
      "2                 40.0                       268.0                 4.0   \n",
      "3                 40.0                       268.0                 4.0   \n",
      "4                 40.0                       268.0                 4.0   \n",
      "\n",
      "   review_score                             review_comment_message  \\\n",
      "0             4  Não testei o produto ainda, mas ele veio corre...   \n",
      "1             4  Não testei o produto ainda, mas ele veio corre...   \n",
      "2             4  Não testei o produto ainda, mas ele veio corre...   \n",
      "3             4  Deveriam embalar melhor o produto. A caixa vei...   \n",
      "4             5  Só achei ela pequena pra seis xícaras ,mais é ...   \n",
      "\n",
      "   Order_purchase_hour  ...  customer_state_RR  customer_state_RS  \\\n",
      "0                   10  ...              False              False   \n",
      "1                   10  ...              False              False   \n",
      "2                   10  ...              False              False   \n",
      "3                   18  ...              False              False   \n",
      "4                   18  ...              False              False   \n",
      "\n",
      "   customer_state_SC  customer_state_SE  customer_state_SP  customer_state_TO  \\\n",
      "0              False              False               True              False   \n",
      "1              False              False               True              False   \n",
      "2              False              False               True              False   \n",
      "3              False              False               True              False   \n",
      "4              False              False               True              False   \n",
      "\n",
      "   payment_type_boleto  payment_type_credit_card  payment_type_debit_card  \\\n",
      "0                False                      True                    False   \n",
      "1                False                     False                    False   \n",
      "2                False                     False                    False   \n",
      "3                False                      True                    False   \n",
      "4                False                      True                    False   \n",
      "\n",
      "   payment_type_voucher  \n",
      "0                 False  \n",
      "1                  True  \n",
      "2                  True  \n",
      "3                 False  \n",
      "4                 False  \n",
      "\n",
      "[5 rows x 4286 columns]\n"
     ]
    }
   ],
   "source": [
    "# List of categorical features to encode\n",
    "categorical_features = [\n",
    "    'order_status',\n",
    "    'product_category_name',\n",
    "    'product_category_name_english',\n",
    "    'customer_city',\n",
    "    'customer_state',\n",
    "    'payment_type'\n",
    "]\n",
    "\n",
    "# Apply one-hot encoding to the categorical features\n",
    "df_encoded = pd.get_dummies(df, columns=categorical_features)\n",
    "\n",
    "# Print the first few rows of the encoded DataFrame\n",
    "print(df_encoded.head())\n"
   ]
  },
  {
   "cell_type": "code",
   "execution_count": 22,
   "metadata": {},
   "outputs": [],
   "source": [
    "from sklearn.preprocessing import MinMaxScaler\n",
    "\n",
    "# Initialize the MinMaxScaler\n",
    "scaler = MinMaxScaler()\n",
    "\n",
    "# Reshape the 'review_score' column to a 2D array\n",
    "review_score = df_encoded['delivery_delay'].values.reshape(-1, 1)\n",
    "\n",
    "# Fit and transform the data\n",
    "scaled_review_score = scaler.fit_transform(review_score)\n",
    "\n",
    "# Replace the original 'review_score' column with the scaled values\n",
    "df_encoded['delivery_delay'] = scaled_review_score\n"
   ]
  },
  {
   "cell_type": "code",
   "execution_count": 23,
   "metadata": {},
   "outputs": [
    {
     "name": "stdout",
     "output_type": "stream",
     "text": [
      "4286\n"
     ]
    }
   ],
   "source": [
    "print(len(df_encoded.columns))"
   ]
  },
  {
   "cell_type": "code",
   "execution_count": 24,
   "metadata": {},
   "outputs": [
    {
     "name": "stdout",
     "output_type": "stream",
     "text": [
      "Shape of X_train: (92487, 4284)\n",
      "Shape of X_test: (23122, 4284)\n",
      "Shape of y_train: (92487,)\n",
      "Shape of y_test: (23122,)\n"
     ]
    }
   ],
   "source": [
    "from sklearn.model_selection import train_test_split\n",
    "\n",
    "# Define the features (X) and target variable (y)\n",
    "X = df_encoded.drop(columns=['review_score', 'review_comment_message'])  # Features\n",
    "y = df_encoded['review_score']  # Target variable\n",
    "\n",
    "# Split the data into training and testing sets\n",
    "X_train, X_test, y_train, y_test = train_test_split(X, y, test_size=0.2, random_state=42)\n",
    "\n",
    "# Print the shapes of the training and testing sets\n",
    "print(\"Shape of X_train:\", X_train.shape)\n",
    "print(\"Shape of X_test:\", X_test.shape)\n",
    "print(\"Shape of y_train:\", y_train.shape)\n",
    "print(\"Shape of y_test:\", y_test.shape)\n"
   ]
  },
  {
   "cell_type": "code",
   "execution_count": 25,
   "metadata": {},
   "outputs": [
    {
     "name": "stdout",
     "output_type": "stream",
     "text": [
      "590       5\n",
      "35804     4\n",
      "14286     5\n",
      "93508     5\n",
      "14957     5\n",
      "         ..\n",
      "76820     4\n",
      "110268    2\n",
      "103694    5\n",
      "860       4\n",
      "15795     5\n",
      "Name: review_score, Length: 92487, dtype: int64\n"
     ]
    }
   ],
   "source": [
    "print(y_train)"
   ]
  },
  {
   "cell_type": "code",
   "execution_count": 26,
   "metadata": {},
   "outputs": [
    {
     "name": "stdout",
     "output_type": "stream",
     "text": [
      "Mean Squared Error: 1.4025171855314855\n"
     ]
    }
   ],
   "source": [
    "from xgboost import XGBRegressor\n",
    "from sklearn.metrics import mean_squared_error\n",
    "\n",
    "# Define hyperparameters\n",
    "params = {\n",
    "    'n_estimators': 100,\n",
    "    'learning_rate': 0.1,\n",
    "    'max_depth': 5,\n",
    "    'min_child_weight': 1,\n",
    "    'gamma': 0,\n",
    "    'subsample': 0.8,\n",
    "    'colsample_bytree': 0.8,\n",
    "    'reg_alpha': 0,\n",
    "    'reg_lambda': 1\n",
    "}\n",
    "\n",
    "# Initialize the XGBoost regressor with specified hyperparameters\n",
    "model = XGBRegressor(**params)\n",
    "\n",
    "# Fit the model on the training data\n",
    "model.fit(X_train, y_train)\n",
    "\n",
    "# Predict on the testing data\n",
    "y_pred = model.predict(X_test)\n",
    "\n",
    "# Evaluate the model\n",
    "mse = mean_squared_error(y_test, y_pred)\n",
    "print(\"Mean Squared Error:\", mse)\n",
    "\n",
    "\n"
   ]
  },
  {
   "cell_type": "code",
   "execution_count": 27,
   "metadata": {},
   "outputs": [
    {
     "name": "stdout",
     "output_type": "stream",
     "text": [
      "[4.216919  4.4733605 4.3673487 ... 4.6119533 4.375174  2.1856067]\n"
     ]
    }
   ],
   "source": [
    "print(y_pred)"
   ]
  },
  {
   "cell_type": "code",
   "execution_count": 28,
   "metadata": {},
   "outputs": [
    {
     "name": "stdout",
     "output_type": "stream",
     "text": [
      "80929     5\n",
      "98263     1\n",
      "12492     5\n",
      "31032     5\n",
      "96097     5\n",
      "         ..\n",
      "68911     5\n",
      "16514     3\n",
      "32644     5\n",
      "112234    4\n",
      "94641     1\n",
      "Name: review_score, Length: 23122, dtype: int64\n"
     ]
    }
   ],
   "source": [
    "print(y_test)"
   ]
  },
  {
   "cell_type": "code",
   "execution_count": 29,
   "metadata": {},
   "outputs": [
    {
     "name": "stdout",
     "output_type": "stream",
     "text": [
      "Mean Squared Error: 1.4025171855314855\n",
      "Mean Absolute Error: 0.9251897737658381\n",
      "R-squared: 0.260946904958415\n",
      "Explained Variance Score: 0.2609474268905385\n"
     ]
    }
   ],
   "source": [
    "from sklearn.metrics import mean_squared_error, mean_absolute_error, r2_score, explained_variance_score\n",
    "\n",
    "# Calculate mean squared error\n",
    "mse = mean_squared_error(y_test, y_pred)\n",
    "print(\"Mean Squared Error:\", mse)\n",
    "\n",
    "# Calculate mean absolute error\n",
    "mae = mean_absolute_error(y_test, y_pred)\n",
    "print(\"Mean Absolute Error:\", mae)\n",
    "\n",
    "# Calculate R-squared\n",
    "r2 = r2_score(y_test, y_pred)\n",
    "print(\"R-squared:\", r2)\n",
    "\n",
    "# Calculate explained variance score\n",
    "explained_variance = explained_variance_score(y_test, y_pred)\n",
    "print(\"Explained Variance Score:\", explained_variance)\n"
   ]
  },
  {
   "cell_type": "code",
   "execution_count": 30,
   "metadata": {},
   "outputs": [
    {
     "data": {
      "text/plain": [
       "['xgboost_regression_model.pkl']"
      ]
     },
     "execution_count": 30,
     "metadata": {},
     "output_type": "execute_result"
    }
   ],
   "source": [
    "import joblib\n",
    "\n",
    "# Save the trained model to a file\n",
    "joblib.dump(model, 'xgboost_regression_model.pkl')\n"
   ]
  }
 ],
 "metadata": {
  "kernelspec": {
   "display_name": "recom",
   "language": "python",
   "name": "python3"
  },
  "language_info": {
   "codemirror_mode": {
    "name": "ipython",
    "version": 3
   },
   "file_extension": ".py",
   "mimetype": "text/x-python",
   "name": "python",
   "nbconvert_exporter": "python",
   "pygments_lexer": "ipython3",
   "version": "3.12.0"
  }
 },
 "nbformat": 4,
 "nbformat_minor": 2
}
