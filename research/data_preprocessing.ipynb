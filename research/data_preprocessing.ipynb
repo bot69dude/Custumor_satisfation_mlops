{
 "cells": [
  {
   "cell_type": "code",
   "execution_count": 1,
   "metadata": {},
   "outputs": [
    {
     "data": {
      "text/plain": [
       "'d:\\\\recommandation\\\\MLproject\\\\research'"
      ]
     },
     "execution_count": 1,
     "metadata": {},
     "output_type": "execute_result"
    }
   ],
   "source": [
    "%pwd"
   ]
  },
  {
   "cell_type": "code",
   "execution_count": 2,
   "metadata": {},
   "outputs": [
    {
     "name": "stdout",
     "output_type": "stream",
     "text": [
      "d:\\recommandation\\MLproject\n"
     ]
    },
    {
     "name": "stderr",
     "output_type": "stream",
     "text": [
      "d:\\recommandation\\rithvik\\Lib\\site-packages\\IPython\\core\\magics\\osm.py:417: UserWarning: This is now an optional IPython functionality, setting dhist requires you to install the `pickleshare` library.\n",
      "  self.shell.db['dhist'] = compress_dhist(dhist)[-100:]\n"
     ]
    }
   ],
   "source": [
    "%cd .."
   ]
  },
  {
   "cell_type": "code",
   "execution_count": 3,
   "metadata": {},
   "outputs": [],
   "source": [
    "from dataclasses import dataclass\n",
    "from pathlib import Path\n",
    "\n",
    "\n",
    "@dataclass(frozen=True)\n",
    "class DataPreprocessConfig:\n",
    "    root_dir: Path\n",
    "    data_path: Path\n",
    "    cat_params: list\n",
    "    drop_params: list"
   ]
  },
  {
   "cell_type": "code",
   "execution_count": 4,
   "metadata": {},
   "outputs": [],
   "source": [
    "lib = %pwd"
   ]
  },
  {
   "cell_type": "code",
   "execution_count": 5,
   "metadata": {},
   "outputs": [],
   "source": [
    "import sys\n",
    "\n",
    "sys.path.append(lib)"
   ]
  },
  {
   "cell_type": "code",
   "execution_count": 6,
   "metadata": {},
   "outputs": [],
   "source": [
    "from src.mlProject.constants import *\n",
    "from src.mlProject.utils.common import read_yaml, create_directories\n",
    "from src.mlProject import logger"
   ]
  },
  {
   "cell_type": "code",
   "execution_count": 7,
   "metadata": {},
   "outputs": [],
   "source": [
    "from pathlib import Path\n",
    "\n",
    "class ConfigurationManager:\n",
    "    def __init__(\n",
    "        self,\n",
    "        config_filepath = CONFIG_FILE,\n",
    "        params_filepath = PARAMS_FILE):\n",
    "\n",
    "        config_filepath = Path(config_filepath)\n",
    "        params_filepath = Path(params_filepath)\n",
    "\n",
    "        self.config = read_yaml(config_filepath)\n",
    "        self.params = read_yaml(params_filepath)\n",
    "\n",
    "        create_directories([self.config.artifacts_root])\n",
    "        \n",
    "    def get_data_preprocessing_config(self) -> DataPreprocessConfig:\n",
    "        config = self.config.data_preprocessing\n",
    "        drop_columns = self.params['features_to_drop']\n",
    "        cat_columns = self.params['categorical_features']\n",
    "        \n",
    "        create_directories([config.root_dir])\n",
    "        data_preprocessing_config = DataPreprocessConfig(\n",
    "            root_dir = config.root_dir,\n",
    "            data_path = config.data_dir,\n",
    "            cat_params = cat_columns,\n",
    "            drop_params = drop_columns  # Pass DROP_COLUMNS to DataPreprocessConfig\n",
    "        )\n",
    "        \n",
    "        return data_preprocessing_config\n"
   ]
  },
  {
   "cell_type": "code",
   "execution_count": 8,
   "metadata": {},
   "outputs": [],
   "source": [
    "import pandas as pd\n",
    "from sklearn.preprocessing import MinMaxScaler\n",
    "import os\n",
    "import logging  \n",
    "\n",
    "class DataPreprocessing:\n",
    "    def __init__(self, config: DataPreprocessConfig):\n",
    "        self.config = config\n",
    "        \n",
    "    def _read_data(self):\n",
    "        try:\n",
    "            # Read data from CSV\n",
    "            self.df = pd.read_csv(self.config.data_path)\n",
    "        except Exception as e:\n",
    "            logging.error(f\"Error occurred while reading data: {str(e)}\")\n",
    "            raise e\n",
    "    \n",
    "    def _calculate_delivery_time(self):\n",
    "        try:\n",
    "            self.df['order_purchase_timestamp'] = pd.to_datetime(self.df['order_purchase_timestamp'])\n",
    "            self.df['order_delivered_customer_date'] = pd.to_datetime(self.df['order_delivered_customer_date'])\n",
    "\n",
    "            # Now that both columns are in datetime format, you can perform the subtraction\n",
    "            self.df['Time_taken_for_delivery'] = (self.df['order_delivered_customer_date'] - self.df['order_purchase_timestamp']).dt.days\n",
    "        except Exception as e:\n",
    "            logging.error(f\"Error occurred while calculating delivery time: {str(e)}\")\n",
    "            raise e\n",
    "            \n",
    "    def _calculate_delivery_delay(self):\n",
    "        try:\n",
    "            self.df['order_estimated_delivery_date'] = pd.to_datetime(self.df['order_estimated_delivery_date'])\n",
    "            self.df['delivery_delay'] = (self.df['order_delivered_customer_date'] - self.df['order_estimated_delivery_date']).dt.days\n",
    "        except Exception as e:\n",
    "            logging.error(f\"Error occurred while calculating delivery delay: {str(e)}\")\n",
    "            raise e\n",
    "    \n",
    "    def _encode_categorical_data(self):\n",
    "        try:\n",
    "            self.df_encoded = pd.get_dummies(self.df, columns=self.config.cat_params)\n",
    "        except Exception as e:\n",
    "            logging.error(f\"Error occurred while encoding categorical data: {str(e)}\")\n",
    "            raise e\n",
    "    \n",
    "    def _scale_data(self):\n",
    "        try:\n",
    "            scaler = MinMaxScaler()\n",
    "\n",
    "            # Reshape the 'review_score' column to a 2D array\n",
    "            review_score = self.df_encoded['delivery_delay'].values.reshape(-1, 1)\n",
    "\n",
    "            # Fit and transform the data\n",
    "            scaled_review_score = scaler.fit_transform(review_score)\n",
    "\n",
    "            # Replace the original 'review_score' column with the scaled values\n",
    "            self.df_encoded['delivery_delay'] = scaled_review_score\n",
    "        except Exception as e:\n",
    "            logging.error(f\"Error occurred while scaling data: {str(e)}\")\n",
    "            raise e\n",
    "            \n",
    "    def _drop_columns(self):\n",
    "        try:\n",
    "            self.df_encoded = self.df_encoded.drop(columns=self.config.drop_params)\n",
    "        except Exception as e:\n",
    "            logging.error(f\"Error occurred while dropping columns: {str(e)}\")\n",
    "            raise e\n",
    "    \n",
    "    def _save_preprocessed_data(self):\n",
    "        try:\n",
    "            output_file_path = os.path.join(self.config.root_dir, \"preprocessed_data.csv\")\n",
    "            self.df_encoded.to_csv(output_file_path, index=False)\n",
    "            logging.info(f\"Preprocessed data saved to: {output_file_path}\")  \n",
    "        except Exception as e:\n",
    "            logging.error(f\"Error occurred while saving preprocessed data: {str(e)}\")\n",
    "            raise e\n",
    "    \n",
    "    def preprocess_data(self):\n",
    "        try:\n",
    "            self._read_data()\n",
    "            self._calculate_delivery_time()\n",
    "            self._calculate_delivery_delay()\n",
    "            self._encode_categorical_data()\n",
    "            self._scale_data()\n",
    "            self._drop_columns()\n",
    "            self._save_preprocessed_data()\n",
    "        except Exception as e:\n",
    "            logging.error(f\"Error occurred during data preprocessing: {str(e)}\")\n",
    "            raise e\n"
   ]
  },
  {
   "cell_type": "code",
   "execution_count": 9,
   "metadata": {},
   "outputs": [
    {
     "name": "stdout",
     "output_type": "stream",
     "text": [
      "[2024-05-11 18:10:00,817: INFO: common: yaml file: config\\config.yaml loaded successfully]\n",
      "[2024-05-11 18:10:00,837: INFO: common: yaml file: params.yaml loaded successfully]\n",
      "[2024-05-11 18:10:00,839: INFO: common: created directory at: artifacts]\n",
      "[2024-05-11 18:10:00,841: INFO: common: created directory at: artifacts/data_preprocessing]\n",
      "[2024-05-11 18:15:51,502: INFO: 2784740437: Preprocessed data saved to: artifacts/data_preprocessing\\preprocessed_data.csv]\n"
     ]
    }
   ],
   "source": [
    "try:\n",
    "    config = ConfigurationManager()\n",
    "    data_preprocessing_config = config.get_data_preprocessing_config()\n",
    "    data_preprocessing = DataPreprocessing(config=data_preprocessing_config)\n",
    "    data_preprocessing.preprocess_data()\n",
    "except Exception as e:\n",
    "    raise e\n"
   ]
  }
 ],
 "metadata": {
  "kernelspec": {
   "display_name": "rithvik",
   "language": "python",
   "name": "python3"
  },
  "language_info": {
   "codemirror_mode": {
    "name": "ipython",
    "version": 3
   },
   "file_extension": ".py",
   "mimetype": "text/x-python",
   "name": "python",
   "nbconvert_exporter": "python",
   "pygments_lexer": "ipython3",
   "version": "3.12.0"
  }
 },
 "nbformat": 4,
 "nbformat_minor": 2
}
